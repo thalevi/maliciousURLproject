{
 "cells": [
  {
   "cell_type": "code",
   "execution_count": 3,
   "metadata": {},
   "outputs": [
    {
     "ename": "SyntaxError",
     "evalue": "invalid syntax (<ipython-input-3-3a31f613cdcc>, line 8)",
     "output_type": "error",
     "traceback": [
      "\u001b[0;36m  File \u001b[0;32m\"<ipython-input-3-3a31f613cdcc>\"\u001b[0;36m, line \u001b[0;32m8\u001b[0m\n\u001b[0;31m    dataset = data.filter( class == \"bus\" | class == \"saab\" ).transform( class = ifelse( class == \"saab\", 0, 1 ) )\u001b[0m\n\u001b[0m                           ^\u001b[0m\n\u001b[0;31mSyntaxError\u001b[0m\u001b[0;31m:\u001b[0m invalid syntax\n"
     ]
    }
   ],
   "source": [
    "# Load library\n",
    "library( dplyr )\n",
    "\n",
    "# Load dataset\n",
    "data = read.csv( \"../dataset/vehicle.csv\", stringsAsFactor = FALSE )\n",
    "\n",
    "# Transform dataset\n",
    "dataset = data.filter( class == \"bus\" | class == \"saab\" ).transform( class = ifelse( class == \"saab\", 0, 1 ) )\n",
    "dataset = as.data.frame( sapply( dataset, as.numeric ) )\n",
    "\n",
    "# Spliting training and testing dataset\n",
    "index = sample( 1:nrow( dataset ), nrow( dataset ) * 0.6, replace = FALSE ) \n",
    "\n",
    "trainset = dataset[ index, ]\n",
    "test = dataset[ -index, ]\n",
    "testset = test %>% select( -class )\n",
    "\n",
    "# Building a neural network (NN)\n",
    "library( neuralnet )\n",
    "n = names( trainset )\n",
    "f = as.formula( paste( \"class ~\", paste( n[!n %in% \"class\"], collapse = \"+\" ) ) )\n",
    "nn = neuralnet( f, trainset, hidden = 4, linear.output = FALSE, threshold = 0.01 )\n",
    "\n",
    "plot( nn, rep = \"best\" )"
   ]
  },
  {
   "cell_type": "code",
   "execution_count": null,
   "metadata": {},
   "outputs": [],
   "source": []
  },
  {
   "cell_type": "code",
   "execution_count": null,
   "metadata": {},
   "outputs": [],
   "source": []
  }
 ],
 "metadata": {
  "kernelspec": {
   "display_name": "Python 3",
   "language": "python",
   "name": "python3"
  },
  "language_info": {
   "codemirror_mode": {
    "name": "ipython",
    "version": 3
   },
   "file_extension": ".py",
   "mimetype": "text/x-python",
   "name": "python",
   "nbconvert_exporter": "python",
   "pygments_lexer": "ipython3",
   "version": "3.8.3"
  }
 },
 "nbformat": 4,
 "nbformat_minor": 4
}
