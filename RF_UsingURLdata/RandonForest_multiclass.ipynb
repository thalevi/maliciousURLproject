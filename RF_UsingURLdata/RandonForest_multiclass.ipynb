{
 "cells": [
  {
   "cell_type": "code",
   "execution_count": 1,
   "metadata": {},
   "outputs": [],
   "source": [
    "import pandas as pd\n",
    "import numpy as np"
   ]
  },
  {
   "cell_type": "code",
   "execution_count": 2,
   "metadata": {},
   "outputs": [],
   "source": [
    "dataset = pd.read_csv('Desktop/4900/FinalDataset/All_BestFirst_test.csv')"
   ]
  },
  {
   "cell_type": "code",
   "execution_count": 3,
   "metadata": {},
   "outputs": [
    {
     "data": {
      "text/html": [
       "<div>\n",
       "<style scoped>\n",
       "    .dataframe tbody tr th:only-of-type {\n",
       "        vertical-align: middle;\n",
       "    }\n",
       "\n",
       "    .dataframe tbody tr th {\n",
       "        vertical-align: top;\n",
       "    }\n",
       "\n",
       "    .dataframe thead th {\n",
       "        text-align: right;\n",
       "    }\n",
       "</style>\n",
       "<table border=\"1\" class=\"dataframe\">\n",
       "  <thead>\n",
       "    <tr style=\"text-align: right;\">\n",
       "      <th></th>\n",
       "      <th>domain_token_count</th>\n",
       "      <th>executable</th>\n",
       "      <th>NumberofDotsinURL</th>\n",
       "      <th>Arguments_LongestWordLength</th>\n",
       "      <th>NumberRate_Domain</th>\n",
       "      <th>NumberRate_FileName</th>\n",
       "      <th>NumberRate_AfterPath</th>\n",
       "      <th>Entropy_Domain</th>\n",
       "      <th>class</th>\n",
       "    </tr>\n",
       "  </thead>\n",
       "  <tbody>\n",
       "    <tr>\n",
       "      <th>0</th>\n",
       "      <td>3</td>\n",
       "      <td>1</td>\n",
       "      <td>6</td>\n",
       "      <td>-1</td>\n",
       "      <td>0.063</td>\n",
       "      <td>0.483</td>\n",
       "      <td>-1.0</td>\n",
       "      <td>0.875</td>\n",
       "      <td>3</td>\n",
       "    </tr>\n",
       "    <tr>\n",
       "      <th>1</th>\n",
       "      <td>3</td>\n",
       "      <td>1</td>\n",
       "      <td>5</td>\n",
       "      <td>-1</td>\n",
       "      <td>0.167</td>\n",
       "      <td>0.667</td>\n",
       "      <td>-1.0</td>\n",
       "      <td>0.954</td>\n",
       "      <td>3</td>\n",
       "    </tr>\n",
       "    <tr>\n",
       "      <th>2</th>\n",
       "      <td>3</td>\n",
       "      <td>1</td>\n",
       "      <td>5</td>\n",
       "      <td>-1</td>\n",
       "      <td>0.063</td>\n",
       "      <td>0.143</td>\n",
       "      <td>-1.0</td>\n",
       "      <td>0.875</td>\n",
       "      <td>3</td>\n",
       "    </tr>\n",
       "    <tr>\n",
       "      <th>3</th>\n",
       "      <td>3</td>\n",
       "      <td>1</td>\n",
       "      <td>5</td>\n",
       "      <td>-1</td>\n",
       "      <td>0.000</td>\n",
       "      <td>0.000</td>\n",
       "      <td>-1.0</td>\n",
       "      <td>0.820</td>\n",
       "      <td>3</td>\n",
       "    </tr>\n",
       "    <tr>\n",
       "      <th>4</th>\n",
       "      <td>3</td>\n",
       "      <td>1</td>\n",
       "      <td>5</td>\n",
       "      <td>-1</td>\n",
       "      <td>0.000</td>\n",
       "      <td>0.000</td>\n",
       "      <td>-1.0</td>\n",
       "      <td>0.820</td>\n",
       "      <td>3</td>\n",
       "    </tr>\n",
       "  </tbody>\n",
       "</table>\n",
       "</div>"
      ],
      "text/plain": [
       "   domain_token_count  executable  NumberofDotsinURL  \\\n",
       "0                   3           1                  6   \n",
       "1                   3           1                  5   \n",
       "2                   3           1                  5   \n",
       "3                   3           1                  5   \n",
       "4                   3           1                  5   \n",
       "\n",
       "   Arguments_LongestWordLength  NumberRate_Domain  NumberRate_FileName  \\\n",
       "0                           -1              0.063                0.483   \n",
       "1                           -1              0.167                0.667   \n",
       "2                           -1              0.063                0.143   \n",
       "3                           -1              0.000                0.000   \n",
       "4                           -1              0.000                0.000   \n",
       "\n",
       "   NumberRate_AfterPath  Entropy_Domain  class  \n",
       "0                  -1.0           0.875      3  \n",
       "1                  -1.0           0.954      3  \n",
       "2                  -1.0           0.875      3  \n",
       "3                  -1.0           0.820      3  \n",
       "4                  -1.0           0.820      3  "
      ]
     },
     "execution_count": 3,
     "metadata": {},
     "output_type": "execute_result"
    }
   ],
   "source": [
    "dataset.head()"
   ]
  },
  {
   "cell_type": "code",
   "execution_count": 17,
   "metadata": {},
   "outputs": [],
   "source": [
    "X = dataset.iloc[:, 0:4].values\n",
    "y = dataset.iloc[:, 5].values"
   ]
  },
  {
   "cell_type": "code",
   "execution_count": 18,
   "metadata": {},
   "outputs": [],
   "source": [
    "from sklearn.model_selection import train_test_split\n",
    "\n",
    "X_train, X_test, y_train, y_test = train_test_split(X, y, test_size=0.2, random_state=0)"
   ]
  },
  {
   "cell_type": "code",
   "execution_count": 19,
   "metadata": {},
   "outputs": [],
   "source": [
    "# Feature Scaling\n",
    "from sklearn.preprocessing import StandardScaler\n",
    "\n",
    "sc = StandardScaler()\n",
    "X_train = sc.fit_transform(X_train)\n",
    "X_test = sc.transform(X_test)"
   ]
  },
  {
   "cell_type": "code",
   "execution_count": 20,
   "metadata": {},
   "outputs": [],
   "source": [
    "from sklearn.ensemble import RandomForestRegressor\n",
    "\n",
    "regressor = RandomForestRegressor(n_estimators=30, random_state=0)\n",
    "regressor.fit(X_train, y_train)\n",
    "y_pred = regressor.predict(X_test)"
   ]
  },
  {
   "cell_type": "code",
   "execution_count": 21,
   "metadata": {
    "scrolled": true
   },
   "outputs": [
    {
     "data": {
      "text/plain": [
       "array([ 1.82232051e-01,  9.79854097e-03,  1.09475058e-01,  7.80641538e-02,\n",
       "        1.09475058e-01,  1.60913037e-01,  5.56944254e-02, -1.21064357e-03,\n",
       "        5.56944254e-02,  1.37629034e-04, -1.21064357e-03,  9.79854097e-03,\n",
       "        4.10888074e-01,  1.80644096e-01,  9.79854097e-03,  4.05518660e-01,\n",
       "        7.95098771e-02,  1.09475058e-01,  1.03490499e-01,  2.84000000e-01,\n",
       "        2.35850328e-01,  4.82853973e-02, -1.21064357e-03,  7.15992449e-01,\n",
       "        5.32123888e-02,  5.56944254e-02,  2.58132713e-01,  1.37629034e-04,\n",
       "        7.95098771e-02,  9.79854097e-03,  2.35850328e-01, -1.58736223e-01,\n",
       "       -4.51175053e-03,  2.35850328e-01,  7.95098771e-02,  6.34198521e-01,\n",
       "        1.82232051e-01, -1.21064357e-03,  2.35850328e-01,  2.80397948e-02,\n",
       "        7.95098771e-02,  1.47746228e-01,  1.09475058e-01,  3.27944389e-01,\n",
       "        1.82232051e-01,  4.05518660e-01,  5.93398607e-01,  1.80644096e-01,\n",
       "        2.35850328e-01, -8.31546142e-02,  1.49146945e-01,  5.56944254e-02,\n",
       "        1.03490499e-01,  3.26683595e-01, -1.21064357e-03,  1.70464143e-01,\n",
       "        5.56944254e-02,  7.95098771e-02,  1.49146945e-01,  1.09475058e-01,\n",
       "        5.32123888e-02,  0.00000000e+00,  1.09475058e-01,  7.68447894e-02,\n",
       "        2.35850328e-01,  2.18846705e-01,  1.60913037e-01,  2.35850328e-01,\n",
       "        1.09475058e-01,  2.71546145e-01,  5.32123888e-02,  1.49146945e-01,\n",
       "       -1.21064357e-03,  9.13251323e-03,  1.60913037e-01,  3.36678447e-02,\n",
       "        7.95098771e-02,  5.56944254e-02, -1.21064357e-03,  7.95098771e-02,\n",
       "        5.15769974e-01,  7.95098771e-02,  1.09475058e-01,  9.79854097e-03,\n",
       "       -4.51175053e-03,  9.79854097e-03,  1.09475058e-01,  1.09475058e-01,\n",
       "       -1.21064357e-03,  4.82853973e-02,  1.34861196e-01,  1.09475058e-01,\n",
       "        1.49146945e-01,  1.03490499e-01,  1.49146945e-01,  1.09475058e-01,\n",
       "        3.27944389e-01,  5.71151670e-02, -4.51175053e-03,  1.56539886e-01])"
      ]
     },
     "execution_count": 21,
     "metadata": {},
     "output_type": "execute_result"
    }
   ],
   "source": [
    "y_pred[:100]"
   ]
  },
  {
   "cell_type": "code",
   "execution_count": 9,
   "metadata": {
    "scrolled": true
   },
   "outputs": [
    {
     "data": {
      "text/plain": [
       "array([0.   , 0.   , 0.   , 0.   , 0.   , 0.286, 0.   , 0.   , 0.   ,\n",
       "       0.429, 0.   , 0.   , 0.267, 0.   , 0.   , 0.   , 0.   , 0.   ,\n",
       "       0.   , 0.267, 0.   , 0.   , 0.   , 0.235, 0.   , 0.   , 0.   ,\n",
       "       0.429, 0.   , 0.   , 0.   , 0.   , 0.   , 0.   , 0.   , 0.018,\n",
       "       0.   , 0.   , 0.   , 0.   , 0.   , 0.   , 0.   , 0.   , 0.   ,\n",
       "       0.   , 0.   , 0.   , 0.   , 0.167, 0.   , 0.   , 0.   , 0.   ,\n",
       "       0.   , 0.   , 0.   , 0.   , 0.   , 0.   , 0.   , 0.143, 0.   ,\n",
       "       0.   , 0.   , 0.   , 0.286, 0.   , 0.   , 0.   , 0.   , 0.   ,\n",
       "       0.   , 0.056, 0.286, 0.   , 0.   , 0.   , 0.   , 0.   , 0.063,\n",
       "       0.   , 0.   , 0.   , 0.   , 0.   , 0.   , 0.   , 0.   , 0.   ,\n",
       "       0.   , 0.   , 0.   , 0.   , 0.   , 0.   , 0.   , 0.   , 0.   ,\n",
       "       0.667])"
      ]
     },
     "execution_count": 9,
     "metadata": {},
     "output_type": "execute_result"
    }
   ],
   "source": [
    "y_test[:100]"
   ]
  },
  {
   "cell_type": "markdown",
   "metadata": {},
   "source": [
    "from sklearn.metrics import classification_report, confusion_matrix, accuracy_score\n",
    "\n",
    "print(confusion_matrix(y_test,y_pred))\n",
    "print(classification_report(y_test,y_pred))\n",
    "print(accuracy_score(y_test, y_pred))"
   ]
  },
  {
   "cell_type": "code",
   "execution_count": null,
   "metadata": {},
   "outputs": [],
   "source": []
  },
  {
   "cell_type": "code",
   "execution_count": null,
   "metadata": {},
   "outputs": [],
   "source": [
    "\n"
   ]
  },
  {
   "cell_type": "code",
   "execution_count": null,
   "metadata": {},
   "outputs": [],
   "source": []
  },
  {
   "cell_type": "code",
   "execution_count": null,
   "metadata": {},
   "outputs": [],
   "source": []
  },
  {
   "cell_type": "code",
   "execution_count": null,
   "metadata": {},
   "outputs": [],
   "source": []
  },
  {
   "cell_type": "code",
   "execution_count": null,
   "metadata": {},
   "outputs": [],
   "source": []
  }
 ],
 "metadata": {
  "kernelspec": {
   "display_name": "Python 3",
   "language": "python",
   "name": "python3"
  },
  "language_info": {
   "codemirror_mode": {
    "name": "ipython",
    "version": 3
   },
   "file_extension": ".py",
   "mimetype": "text/x-python",
   "name": "python",
   "nbconvert_exporter": "python",
   "pygments_lexer": "ipython3",
   "version": "3.8.3"
  }
 },
 "nbformat": 4,
 "nbformat_minor": 4
}
