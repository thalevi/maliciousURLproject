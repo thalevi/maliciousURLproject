{
 "cells": [
  {
   "cell_type": "code",
   "execution_count": 24,
   "metadata": {},
   "outputs": [],
   "source": [
    "import pandas as pd\n",
    "import numpy as np\n",
    "from sklearn.ensemble import RandomForestRegressor\n",
    "from sklearn.metrics import classification_report, confusion_matrix, accuracy_score\n",
    "from sklearn.model_selection import train_test_split\n",
    "from matplotlib import pyplot as plt \n",
    "from sklearn.neighbors import KNeighborsClassifier\n",
    "from sklearn.preprocessing import StandardScaler\n"
   ]
  },
  {
   "cell_type": "code",
   "execution_count": 2,
   "metadata": {},
   "outputs": [],
   "source": [
    "dataset = pd.read_csv('All.csv')"
   ]
  },
  {
   "cell_type": "code",
   "execution_count": 3,
   "metadata": {},
   "outputs": [
    {
     "data": {
      "text/plain": [
       "(36707, 80)"
      ]
     },
     "execution_count": 3,
     "metadata": {},
     "output_type": "execute_result"
    }
   ],
   "source": [
    "dataset.shape"
   ]
  },
  {
   "cell_type": "code",
   "execution_count": 4,
   "metadata": {},
   "outputs": [],
   "source": [
    "#  change the value of URL_Type_obf_Type\n",
    "# 0: benign 1:defacement 2: phishing 3: malware 4:spam\n",
    "\n",
    "\n",
    "dataset.loc[dataset[\"URL_Type_obf_Type\"] =='Defacement', \"URL_Type_obf_Type\"] = 1\n",
    "dataset.loc[dataset[\"URL_Type_obf_Type\"] =='benign', \"URL_Type_obf_Type\"] = 0\n",
    "dataset.loc[dataset[\"URL_Type_obf_Type\"] =='phishing', \"URL_Type_obf_Type\"] = 2\n",
    "dataset.loc[dataset[\"URL_Type_obf_Type\"] =='malware', \"URL_Type_obf_Type\"] = 3\n",
    "dataset.loc[dataset[\"URL_Type_obf_Type\"] =='spam', \"URL_Type_obf_Type\"] = 4\n"
   ]
  },
  {
   "cell_type": "code",
   "execution_count": 5,
   "metadata": {},
   "outputs": [],
   "source": [
    "dataset = pd.DataFrame(dataset)\n"
   ]
  },
  {
   "cell_type": "code",
   "execution_count": 6,
   "metadata": {},
   "outputs": [],
   "source": [
    "##drop rows containing NaN value\n",
    "\n",
    "dataset.dropna(inplace = True)\n"
   ]
  },
  {
   "cell_type": "code",
   "execution_count": 7,
   "metadata": {},
   "outputs": [],
   "source": [
    "X = dataset.iloc[:, 0:79].values\n",
    "y = dataset.iloc[:, 79].values\n",
    "y=y.astype('int')"
   ]
  },
  {
   "cell_type": "code",
   "execution_count": 8,
   "metadata": {},
   "outputs": [],
   "source": [
    "# Splitting Data\n",
    "\n",
    "\n",
    "X_train, X_test, y_train, y_test = train_test_split(X, y, test_size=0.2, random_state=0)\n",
    "\n",
    "sc = StandardScaler()\n",
    "X_train = sc.fit_transform(X_train)\n",
    "X_test = sc.transform(X_test)"
   ]
  },
  {
   "cell_type": "code",
   "execution_count": null,
   "metadata": {},
   "outputs": [],
   "source": []
  },
  {
   "cell_type": "code",
   "execution_count": 9,
   "metadata": {},
   "outputs": [
    {
     "data": {
      "text/plain": [
       "array([3, 2, 2, 0, 1, 2, 4, 3, 3, 1, 0, 3, 2, 2, 4, 3, 3, 0, 4, 0, 3, 4,\n",
       "       4, 3, 1, 4, 3, 3, 2, 2, 2, 3, 0, 4, 3, 0, 0, 2, 2, 3, 4, 0, 0, 3,\n",
       "       2, 4, 1, 3, 2, 1, 4, 0, 3, 0, 4, 4, 2, 1, 4, 3, 1, 1, 4, 2, 2, 3,\n",
       "       2, 3, 2, 0, 3, 0, 3, 3, 1, 4, 0, 1, 2, 1, 2, 0, 4, 4, 2, 3, 4, 0,\n",
       "       3, 3, 3, 2, 2, 2, 2, 4, 4, 3, 3, 2])"
      ]
     },
     "execution_count": 9,
     "metadata": {},
     "output_type": "execute_result"
    }
   ],
   "source": [
    "y_test[:100]"
   ]
  },
  {
   "cell_type": "code",
   "execution_count": 10,
   "metadata": {},
   "outputs": [],
   "source": [
    "# apply RandomForest\n",
    "regressor = RandomForestRegressor()\n",
    "regressor.fit(X_train, y_train)\n",
    "y_pred = regressor.predict(X_test)"
   ]
  },
  {
   "cell_type": "code",
   "execution_count": 11,
   "metadata": {
    "scrolled": true
   },
   "outputs": [],
   "source": [
    "y_pred = np.round(y_pred)"
   ]
  },
  {
   "cell_type": "code",
   "execution_count": 12,
   "metadata": {},
   "outputs": [
    {
     "name": "stdout",
     "output_type": "stream",
     "text": [
      "[[ 457   40   15    2    0]\n",
      " [   0  463   30    3    0]\n",
      " [   6   31  727   32    5]\n",
      " [   0    2   21  897    0]\n",
      " [   2    1   12   30 1021]]\n",
      "              precision    recall  f1-score   support\n",
      "\n",
      "           0       0.98      0.89      0.93       514\n",
      "           1       0.86      0.93      0.90       496\n",
      "           2       0.90      0.91      0.91       801\n",
      "           3       0.93      0.97      0.95       920\n",
      "           4       1.00      0.96      0.98      1066\n",
      "\n",
      "    accuracy                           0.94      3797\n",
      "   macro avg       0.93      0.93      0.93      3797\n",
      "weighted avg       0.94      0.94      0.94      3797\n",
      "\n",
      "0.9388991308928101\n"
     ]
    }
   ],
   "source": [
    "print(confusion_matrix(y_test,y_pred))\n",
    "print(classification_report(y_test,y_pred))\n",
    "print(accuracy_score(y_test, y_pred))\n",
    "score1= accuracy_score(y_test, y_pred)"
   ]
  },
  {
   "cell_type": "code",
   "execution_count": null,
   "metadata": {},
   "outputs": [],
   "source": []
  },
  {
   "cell_type": "code",
   "execution_count": null,
   "metadata": {},
   "outputs": [],
   "source": []
  },
  {
   "cell_type": "code",
   "execution_count": 13,
   "metadata": {},
   "outputs": [],
   "source": [
    "#Import knearest neighbors Classifier model\n",
    "\n",
    "\n",
    "#Create KNN Classifier\n",
    "knn = KNeighborsClassifier()\n",
    "\n",
    "#Train the model using the training sets\n",
    "knn.fit(X_train, y_train)\n",
    "\n",
    "#Predict the response for test dataset\n",
    "y_pred_1 = knn.predict(X_test)"
   ]
  },
  {
   "cell_type": "code",
   "execution_count": 14,
   "metadata": {},
   "outputs": [
    {
     "name": "stdout",
     "output_type": "stream",
     "text": [
      "[[ 490    2   11   11    0]\n",
      " [   1  469   21    2    3]\n",
      " [  24   43  692   21   21]\n",
      " [   8    5   25  877    5]\n",
      " [   5    6   10    3 1042]]\n",
      "              precision    recall  f1-score   support\n",
      "\n",
      "           0       0.93      0.95      0.94       514\n",
      "           1       0.89      0.95      0.92       496\n",
      "           2       0.91      0.86      0.89       801\n",
      "           3       0.96      0.95      0.96       920\n",
      "           4       0.97      0.98      0.98      1066\n",
      "\n",
      "    accuracy                           0.94      3797\n",
      "   macro avg       0.93      0.94      0.94      3797\n",
      "weighted avg       0.94      0.94      0.94      3797\n",
      "\n",
      "0.9402159599683961\n"
     ]
    }
   ],
   "source": [
    "print(confusion_matrix(y_test,y_pred_1))\n",
    "print(classification_report(y_test,y_pred_1))\n",
    "print(accuracy_score(y_test, y_pred_1))\n",
    "score2= accuracy_score(y_test, y_pred_1)"
   ]
  },
  {
   "cell_type": "code",
   "execution_count": null,
   "metadata": {},
   "outputs": [],
   "source": [
    "\n"
   ]
  },
  {
   "cell_type": "code",
   "execution_count": null,
   "metadata": {},
   "outputs": [],
   "source": []
  },
  {
   "cell_type": "code",
   "execution_count": 23,
   "metadata": {},
   "outputs": [
    {
     "data": {
      "image/png": "[encoded data removed]",
      "text/plain": [
       "<Figure size 432x288 with 1 Axes>"
      ]
     },
     "metadata": {
      "needs_background": "light"
     },
     "output_type": "display_data"
    }
   ],
   "source": [
    "from matplotlib import pyplot as plt \n",
    "x =['RF_score','KNN_score']\n",
    "y = [score1, score2]\n",
    "plt.ylim(0.90, 0.95)\n",
    "plt.bar(x,y)\n",
    "plt.show()"
   ]
  },
  {
   "cell_type": "code",
   "execution_count": null,
   "metadata": {},
   "outputs": [],
   "source": []
  },
  {
   "cell_type": "code",
   "execution_count": null,
   "metadata": {},
   "outputs": [],
   "source": []
  },
  {
   "cell_type": "code",
   "execution_count": null,
   "metadata": {},
   "outputs": [],
   "source": []
  }
 ],
 "metadata": {
  "kernelspec": {
   "display_name": "Python 3",
   "language": "python",
   "name": "python3"
  },
  "language_info": {
   "codemirror_mode": {
    "name": "ipython",
    "version": 3
   },
   "file_extension": ".py",
   "mimetype": "text/x-python",
   "name": "python",
   "nbconvert_exporter": "python",
   "pygments_lexer": "ipython3",
   "version": "3.8.3"
  }
 },
 "nbformat": 4,
 "nbformat_minor": 4
}
