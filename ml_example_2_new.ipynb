{
 "cells": [
  {
   "cell_type": "code",
   "execution_count": 4,
   "metadata": {},
   "outputs": [],
   "source": [
    "import pandas as pd\n",
    "from sklearn.linear_model import LogisticRegression\n",
    "from sklearn.metrics import accuracy_score"
   ]
  },
  {
   "cell_type": "code",
   "execution_count": 5,
   "metadata": {},
   "outputs": [],
   "source": [
    "train_data = pd.read_csv('FinalDataset/All_BestFirst.csv')\n",
    "test_data = pd.read_csv('FinalDataset/All_BestFirst_test.csv')"
   ]
  },
  {
   "cell_type": "code",
   "execution_count": 6,
   "metadata": {},
   "outputs": [
    {
     "data": {
      "text/plain": [
       "Index(['domain_token_count', 'executable', 'NumberofDotsinURL',\n",
       "       'Arguments_LongestWordLength', 'NumberRate_Domain',\n",
       "       'NumberRate_FileName', 'NumberRate_AfterPath', 'Entropy_Domain'],\n",
       "      dtype='object')"
      ]
     },
     "execution_count": 6,
     "metadata": {},
     "output_type": "execute_result"
    }
   ],
   "source": [
    "test_data.drop('class',axis=1, inplace=True)\n",
    "train_data.drop('class',axis=1, inplace=True)\n",
    "train_data.columns"
   ]
  },
  {
   "cell_type": "code",
   "execution_count": 7,
   "metadata": {},
   "outputs": [
    {
     "name": "stdout",
     "output_type": "stream",
     "text": [
      "\n",
      "Shape of training data : (36694, 8)\n",
      "\n",
      "Shape of testing data : (36694, 8)\n"
     ]
    }
   ],
   "source": [
    "print('\\nShape of training data :',train_data.shape)\n",
    "print('\\nShape of testing data :',test_data.shape)"
   ]
  },
  {
   "cell_type": "code",
   "execution_count": 8,
   "metadata": {},
   "outputs": [],
   "source": [
    "# Now, we need to predict the missing target variable in the test data\n",
    "# target variable - \n",
    "\n",
    "# seperate the independent and target variable on training data\n",
    "\n",
    "train_x = train_data.drop(columns=['executable'],axis=1)\n",
    "train_y = train_data['executable']\n",
    "\n",
    "# seperate the independent and target variable on training data\n",
    "test_x = test_data.drop(columns=['executable'],axis=1)\n",
    "\n",
    "test_y = test_data['executable']"
   ]
  },
  {
   "cell_type": "code",
   "execution_count": 9,
   "metadata": {},
   "outputs": [
    {
     "name": "stdout",
     "output_type": "stream",
     "text": [
      "Coefficient of model : [[-0.07373934  0.23193115 -1.21610998 -0.29370772 -0.13326954 -1.43466021\n",
      "  -0.56406429]]\n",
      "Intercept of model [-8.59515752]\n",
      "Target on train data [0 0 0 ... 0 0 0]\n",
      "accuracy_score on train dataset :  0.9986101269962392\n"
     ]
    }
   ],
   "source": [
    "model = LogisticRegression()\n",
    "\n",
    "# fit the model with the training data\n",
    "model.fit(train_x,train_y)\n",
    "\n",
    "# coefficeints of the trained model\n",
    "print('Coefficient of model :', model.coef_)\n",
    "\n",
    "# intercept of the model\n",
    "print('Intercept of model',model.intercept_)\n",
    "\n",
    "# predict the target on the train dataset\n",
    "predict_train = model.predict(train_x)\n",
    "print('Target on train data',predict_train) \n",
    "\n",
    "# Accuray Score on train dataset\n",
    "accuracy_train = accuracy_score(train_y,predict_train)\n",
    "print('accuracy_score on train dataset : ', accuracy_train)"
   ]
  },
  {
   "cell_type": "code",
   "execution_count": 10,
   "metadata": {},
   "outputs": [
    {
     "name": "stdout",
     "output_type": "stream",
     "text": [
      "Target on test data [0 0 0 ... 0 0 0]\n",
      "accuracy_score on test dataset :  0.9986101269962392\n"
     ]
    }
   ],
   "source": [
    "# predict the target on the test dataset\n",
    "predict_test = model.predict(test_x)\n",
    "print('Target on test data',predict_test) \n",
    "\n",
    "# Accuracy Score on test dataset\n",
    "accuracy_test = accuracy_score(test_y,predict_test)\n",
    "print('accuracy_score on test dataset : ', accuracy_test)"
   ]
  },
  {
   "cell_type": "code",
   "execution_count": null,
   "metadata": {},
   "outputs": [],
   "source": []
  }
 ],
 "metadata": {
  "kernelspec": {
   "display_name": "Python 3",
   "language": "python",
   "name": "python3"
  },
  "language_info": {
   "codemirror_mode": {
    "name": "ipython",
    "version": 3
   },
   "file_extension": ".py",
   "mimetype": "text/x-python",
   "name": "python",
   "nbconvert_exporter": "python",
   "pygments_lexer": "ipython3",
   "version": "3.8.3"
  }
 },
 "nbformat": 4,
 "nbformat_minor": 4
}
