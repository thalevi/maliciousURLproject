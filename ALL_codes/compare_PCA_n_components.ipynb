{
 "cells": [
  {
   "cell_type": "code",
   "execution_count": 1,
   "metadata": {},
   "outputs": [
    {
     "data": {
      "text/plain": [
       "(36707, 80)"
      ]
     },
     "execution_count": 1,
     "metadata": {},
     "output_type": "execute_result"
    }
   ],
   "source": [
    "import pandas as pd\n",
    "import numpy as np\n",
    "dataset = pd.read_csv('All.csv')\n",
    "dataset.shape"
   ]
  },
  {
   "cell_type": "code",
   "execution_count": 2,
   "metadata": {},
   "outputs": [
    {
     "name": "stdout",
     "output_type": "stream",
     "text": [
      "(18982, 80)\n"
     ]
    }
   ],
   "source": [
    "\n",
    "dataset.loc[dataset[\"URL_Type_obf_Type\"] =='Defacement', \"URL_Type_obf_Type\"] = 1\n",
    "dataset.loc[dataset[\"URL_Type_obf_Type\"] =='benign', \"URL_Type_obf_Type\"] = 0\n",
    "dataset.loc[dataset[\"URL_Type_obf_Type\"] =='phishing', \"URL_Type_obf_Type\"] = 2\n",
    "dataset.loc[dataset[\"URL_Type_obf_Type\"] =='malware', \"URL_Type_obf_Type\"] = 3\n",
    "dataset.loc[dataset[\"URL_Type_obf_Type\"] =='spam', \"URL_Type_obf_Type\"] = 4\n",
    "dataset = pd.DataFrame(dataset)\n",
    "\n",
    "\n",
    "dataset.dropna(inplace = True)\n",
    "print(dataset.shape)"
   ]
  },
  {
   "cell_type": "code",
   "execution_count": 3,
   "metadata": {},
   "outputs": [],
   "source": [
    "X = dataset.iloc[:, 0:79].values\n",
    "y = dataset.iloc[:, 79].values\n",
    "y=y.astype('int')"
   ]
  },
  {
   "cell_type": "code",
   "execution_count": 4,
   "metadata": {},
   "outputs": [],
   "source": [
    "from sklearn.model_selection import train_test_split\n",
    "# Feature Scaling\n",
    "from sklearn.preprocessing import StandardScaler\n",
    "from sklearn.decomposition import PCA\n",
    "from sklearn.ensemble import RandomForestRegressor\n",
    "from sklearn.metrics import accuracy_score"
   ]
  },
  {
   "cell_type": "code",
   "execution_count": 5,
   "metadata": {},
   "outputs": [],
   "source": [
    "X_train, X_test, y_train, y_test = train_test_split(X, y, test_size=0.2, random_state=0)\n",
    "sc = StandardScaler()\n",
    "X_train = sc.fit_transform(X_train)\n",
    "X_test = sc.transform(X_test)"
   ]
  },
  {
   "cell_type": "code",
   "execution_count": null,
   "metadata": {},
   "outputs": [],
   "source": []
  },
  {
   "cell_type": "code",
   "execution_count": null,
   "metadata": {},
   "outputs": [],
   "source": []
  },
  {
   "cell_type": "code",
   "execution_count": null,
   "metadata": {},
   "outputs": [],
   "source": []
  },
  {
   "cell_type": "code",
   "execution_count": 6,
   "metadata": {},
   "outputs": [],
   "source": [
    "\n",
    "def PCA_components(X_train ,X_test ,n_components):\n",
    "    pca = PCA(n_components)\n",
    "    pca.fit(X_train)\n",
    "    X_train = pca.transform(X_train)\n",
    "    X_test = pca.transform(X_test)\n",
    "    regressor = RandomForestRegressor(n_estimators=30, random_state=0)\n",
    "    regressor.fit(X_train, y_train)\n",
    "    y_pred = regressor.predict(X_test)\n",
    "    y_pred =np.round(y_pred,0)\n",
    "    return accuracy_score(y_test, y_pred)"
   ]
  },
  {
   "cell_type": "code",
   "execution_count": null,
   "metadata": {},
   "outputs": [],
   "source": []
  },
  {
   "cell_type": "code",
   "execution_count": 7,
   "metadata": {},
   "outputs": [
    {
     "name": "stdout",
     "output_type": "stream",
     "text": [
      "0.5541216750065842\n",
      "0.5541216750065842\n",
      "0.7440084277060838\n",
      "0.7440084277060838\n",
      "0.8111667105609692\n",
      "0.8643666052146431\n",
      "0.8870160653147221\n",
      "0.8883328943903082\n",
      "0.9015011851461681\n"
     ]
    }
   ],
   "source": [
    "t=[]\n",
    "for i in range(1,10):\n",
    "    t.append(PCA_components(X_train ,X_test ,i/10))\n",
    "    print(PCA_components(X_train ,X_test ,i/10))"
   ]
  },
  {
   "cell_type": "code",
   "execution_count": null,
   "metadata": {},
   "outputs": [],
   "source": []
  },
  {
   "cell_type": "code",
   "execution_count": 8,
   "metadata": {},
   "outputs": [
    {
     "data": {
      "image/png": "[encoded data removed]",
      "text/plain": [
       "<Figure size 432x288 with 1 Axes>"
      ]
     },
     "metadata": {
      "needs_background": "light"
     },
     "output_type": "display_data"
    }
   ],
   "source": [
    "from matplotlib import pyplot as plt \n",
    "x =['PCA0.1','PCA0.2','PCA0.3','PCA0.4','PCA0.5','PCA0.6','PCA0.7','PCA0.8',\n",
    "    'PCA0.9']\n",
    "y = [t[0],t[1],t[2],t[3],t[4],t[5],t[6],t[7],t[8]]\n",
    "plt.ylim(0.5, 0.93)\n",
    "plt.bar(x,y)\n",
    "plt.show()"
   ]
  },
  {
   "cell_type": "code",
   "execution_count": 9,
   "metadata": {},
   "outputs": [
    {
     "name": "stdout",
     "output_type": "stream",
     "text": [
      "0.8904398209112457\n",
      "0.8988675269949961\n",
      "0.9065051356333947\n",
      "0.9117724519357387\n",
      "0.9059784040031604\n",
      "0.9115090861206215\n"
     ]
    }
   ],
   "source": [
    "s=[]\n",
    "for i in range(10,70,10):\n",
    "    s.append(PCA_components(X_train ,X_test ,i))\n",
    "    print(PCA_components(X_train ,X_test ,i))\n",
    "    "
   ]
  },
  {
   "cell_type": "code",
   "execution_count": 10,
   "metadata": {},
   "outputs": [
    {
     "data": {
      "text/plain": [
       "0.8896497234658941"
      ]
     },
     "execution_count": 10,
     "metadata": {},
     "output_type": "execute_result"
    }
   ],
   "source": [
    "PCA_components(X_train ,X_test ,10)"
   ]
  },
  {
   "cell_type": "code",
   "execution_count": 11,
   "metadata": {},
   "outputs": [
    {
     "name": "stdout",
     "output_type": "stream",
     "text": [
      "0.9117724519357387\n"
     ]
    }
   ],
   "source": [
    "s79 = PCA_components(X_train ,X_test ,79)\n",
    "print(s79)"
   ]
  },
  {
   "cell_type": "code",
   "execution_count": 12,
   "metadata": {},
   "outputs": [
    {
     "data": {
      "image/png": "[encoded data removed]",
      "text/plain": [
       "<Figure size 432x288 with 1 Axes>"
      ]
     },
     "metadata": {
      "needs_background": "light"
     },
     "output_type": "display_data"
    }
   ],
   "source": [
    "from matplotlib import pyplot as plt \n",
    "x =['PCA10','PCA20','PCA30','PCA40','PCA50','PCA60','PCA79']\n",
    "y = [s[0],s[1],s[2],s[3],s[4],s[5],s79]\n",
    "plt.ylim(0.88, 0.93)\n",
    "plt.bar(x,y)\n",
    "plt.show()"
   ]
  },
  {
   "cell_type": "code",
   "execution_count": null,
   "metadata": {},
   "outputs": [],
   "source": []
  },
  {
   "cell_type": "code",
   "execution_count": 13,
   "metadata": {},
   "outputs": [],
   "source": [
    "X = dataset.iloc[:, 0:79].values\n",
    "y = dataset.iloc[:, 79].values\n",
    "y=y.astype('int')"
   ]
  },
  {
   "cell_type": "code",
   "execution_count": 14,
   "metadata": {},
   "outputs": [],
   "source": [
    "X_train, X_test, y_train, y_test = train_test_split(X, y, \n",
    "                    test_size=0.2, random_state=0)"
   ]
  },
  {
   "cell_type": "code",
   "execution_count": 15,
   "metadata": {},
   "outputs": [],
   "source": [
    "\n",
    "sc = StandardScaler()\n",
    "X_train = sc.fit_transform(X_train)\n",
    "X_test = sc.transform(X_test)   \n"
   ]
  },
  {
   "cell_type": "code",
   "execution_count": 16,
   "metadata": {},
   "outputs": [],
   "source": [
    "regressor = RandomForestRegressor(n_estimators=30, random_state=0)\n",
    "regressor.fit(X_train, y_train)\n",
    "\n",
    "y_pred = regressor.predict(X_test)"
   ]
  },
  {
   "cell_type": "code",
   "execution_count": 17,
   "metadata": {},
   "outputs": [
    {
     "name": "stdout",
     "output_type": "stream",
     "text": [
      "0.9357387411114038\n"
     ]
    }
   ],
   "source": [
    "y_pred =np.round(y_pred,0)\n",
    "score1= accuracy_score(y_test, y_pred)\n",
    "print(score1)\n"
   ]
  },
  {
   "cell_type": "code",
   "execution_count": 18,
   "metadata": {},
   "outputs": [
    {
     "data": {
      "image/png": "[encoded data removed]",
      "text/plain": [
       "<Figure size 432x288 with 1 Axes>"
      ]
     },
     "metadata": {
      "needs_background": "light"
     },
     "output_type": "display_data"
    }
   ],
   "source": [
    "from matplotlib import pyplot as plt \n",
    "x =['PCA10','PCA20','PCA30','PCA40','PCA50','PCA60','PCA79','NoPCA']\n",
    "y = [s[0],s[1],s[2],s[3],s[4],s[5],s79,score1]\n",
    "plt.ylim(0.88, 0.94)\n",
    "plt.bar(x,y)\n",
    "plt.show()"
   ]
  },
  {
   "cell_type": "code",
   "execution_count": null,
   "metadata": {},
   "outputs": [],
   "source": []
  },
  {
   "cell_type": "markdown",
   "metadata": {},
   "source": [
    "conclusion: generally with more features, the accuracy will be higher\n",
    "\n",
    "odd thing: even with PCA(79) all features, the accuracy is lower.\n"
   ]
  },
  {
   "cell_type": "code",
   "execution_count": null,
   "metadata": {},
   "outputs": [],
   "source": []
  }
 ],
 "metadata": {
  "kernelspec": {
   "display_name": "Python 3",
   "language": "python",
   "name": "python3"
  },
  "language_info": {
   "codemirror_mode": {
    "name": "ipython",
    "version": 3
   },
   "file_extension": ".py",
   "mimetype": "text/x-python",
   "name": "python",
   "nbconvert_exporter": "python",
   "pygments_lexer": "ipython3",
   "version": "3.8.3"
  }
 },
 "nbformat": 4,
 "nbformat_minor": 4
}
