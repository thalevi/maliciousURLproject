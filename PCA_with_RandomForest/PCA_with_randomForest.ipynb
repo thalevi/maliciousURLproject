{
 "cells": [
  {
   "cell_type": "code",
   "execution_count": 1,
   "metadata": {},
   "outputs": [],
   "source": [
    "import pandas as pd\n",
    "import numpy as np\n",
    "from sklearn.decomposition import PCA\n",
    "from sklearn.model_selection import train_test_split\n",
    "from sklearn.ensemble import RandomForestRegressor\n",
    "from sklearn.metrics import accuracy_score"
   ]
  },
  {
   "cell_type": "code",
   "execution_count": 2,
   "metadata": {},
   "outputs": [
    {
     "data": {
      "text/plain": [
       "(36707, 80)"
      ]
     },
     "execution_count": 2,
     "metadata": {},
     "output_type": "execute_result"
    }
   ],
   "source": [
    "dataset = pd.read_csv('All.csv')\n",
    "dataset.shape"
   ]
  },
  {
   "cell_type": "code",
   "execution_count": 3,
   "metadata": {},
   "outputs": [
    {
     "name": "stdout",
     "output_type": "stream",
     "text": [
      "(18982, 80)\n"
     ]
    }
   ],
   "source": [
    "dataset.loc[dataset[\"URL_Type_obf_Type\"] =='Defacement', \"URL_Type_obf_Type\"] = 1\n",
    "dataset.loc[dataset[\"URL_Type_obf_Type\"] =='benign', \"URL_Type_obf_Type\"] = 0\n",
    "dataset.loc[dataset[\"URL_Type_obf_Type\"] =='phishing', \"URL_Type_obf_Type\"] = 2\n",
    "dataset.loc[dataset[\"URL_Type_obf_Type\"] =='malware', \"URL_Type_obf_Type\"] = 3\n",
    "dataset.loc[dataset[\"URL_Type_obf_Type\"] =='spam', \"URL_Type_obf_Type\"] = 4\n",
    "dataset = pd.DataFrame(dataset)\n",
    "\n",
    "\n",
    "dataset.dropna(inplace = True)\n",
    "print(dataset.shape)"
   ]
  },
  {
   "cell_type": "code",
   "execution_count": 4,
   "metadata": {},
   "outputs": [],
   "source": [
    "x = dataset.iloc[:, 0:79].values\n",
    "x=pd.DataFrame(x)\n",
    "y = dataset.iloc[:, 79].values\n",
    "y=y.astype('int')\n"
   ]
  },
  {
   "cell_type": "code",
   "execution_count": 5,
   "metadata": {},
   "outputs": [
    {
     "name": "stdout",
     "output_type": "stream",
     "text": [
      "x shape: (18982, 79)\n"
     ]
    },
    {
     "data": {
      "text/html": [
       "<div>\n",
       "<style scoped>\n",
       "    .dataframe tbody tr th:only-of-type {\n",
       "        vertical-align: middle;\n",
       "    }\n",
       "\n",
       "    .dataframe tbody tr th {\n",
       "        vertical-align: top;\n",
       "    }\n",
       "\n",
       "    .dataframe thead th {\n",
       "        text-align: right;\n",
       "    }\n",
       "</style>\n",
       "<table border=\"1\" class=\"dataframe\">\n",
       "  <thead>\n",
       "    <tr style=\"text-align: right;\">\n",
       "      <th></th>\n",
       "      <th>0</th>\n",
       "      <th>1</th>\n",
       "      <th>2</th>\n",
       "      <th>3</th>\n",
       "      <th>4</th>\n",
       "      <th>5</th>\n",
       "      <th>6</th>\n",
       "      <th>7</th>\n",
       "      <th>8</th>\n",
       "      <th>9</th>\n",
       "      <th>...</th>\n",
       "      <th>69</th>\n",
       "      <th>70</th>\n",
       "      <th>71</th>\n",
       "      <th>72</th>\n",
       "      <th>73</th>\n",
       "      <th>74</th>\n",
       "      <th>75</th>\n",
       "      <th>76</th>\n",
       "      <th>77</th>\n",
       "      <th>78</th>\n",
       "    </tr>\n",
       "  </thead>\n",
       "  <tbody>\n",
       "    <tr>\n",
       "      <th>0</th>\n",
       "      <td>0.0</td>\n",
       "      <td>4.0</td>\n",
       "      <td>4.0</td>\n",
       "      <td>6.250000</td>\n",
       "      <td>17.0</td>\n",
       "      <td>3.750000</td>\n",
       "      <td>4.0</td>\n",
       "      <td>4.0</td>\n",
       "      <td>2.0</td>\n",
       "      <td>0.0</td>\n",
       "      <td>...</td>\n",
       "      <td>1.0</td>\n",
       "      <td>1.0</td>\n",
       "      <td>0.0</td>\n",
       "      <td>-1.0</td>\n",
       "      <td>0.726945</td>\n",
       "      <td>0.768811</td>\n",
       "      <td>0.916667</td>\n",
       "      <td>1.000000</td>\n",
       "      <td>1.000000</td>\n",
       "      <td>-1.000000</td>\n",
       "    </tr>\n",
       "    <tr>\n",
       "      <th>1</th>\n",
       "      <td>22.0</td>\n",
       "      <td>4.0</td>\n",
       "      <td>10.0</td>\n",
       "      <td>6.250000</td>\n",
       "      <td>17.0</td>\n",
       "      <td>3.500000</td>\n",
       "      <td>4.0</td>\n",
       "      <td>19.0</td>\n",
       "      <td>10.0</td>\n",
       "      <td>0.0</td>\n",
       "      <td>...</td>\n",
       "      <td>1.0</td>\n",
       "      <td>9.0</td>\n",
       "      <td>8.0</td>\n",
       "      <td>7.0</td>\n",
       "      <td>0.686486</td>\n",
       "      <td>0.768811</td>\n",
       "      <td>0.916667</td>\n",
       "      <td>0.748105</td>\n",
       "      <td>0.757206</td>\n",
       "      <td>0.749167</td>\n",
       "    </tr>\n",
       "    <tr>\n",
       "      <th>2</th>\n",
       "      <td>23.0</td>\n",
       "      <td>4.0</td>\n",
       "      <td>10.0</td>\n",
       "      <td>6.250000</td>\n",
       "      <td>17.0</td>\n",
       "      <td>3.500000</td>\n",
       "      <td>4.0</td>\n",
       "      <td>19.0</td>\n",
       "      <td>10.0</td>\n",
       "      <td>0.0</td>\n",
       "      <td>...</td>\n",
       "      <td>1.0</td>\n",
       "      <td>9.0</td>\n",
       "      <td>8.0</td>\n",
       "      <td>7.0</td>\n",
       "      <td>0.687286</td>\n",
       "      <td>0.768811</td>\n",
       "      <td>0.916667</td>\n",
       "      <td>0.747622</td>\n",
       "      <td>0.756298</td>\n",
       "      <td>0.748268</td>\n",
       "    </tr>\n",
       "    <tr>\n",
       "      <th>3</th>\n",
       "      <td>22.0</td>\n",
       "      <td>4.0</td>\n",
       "      <td>10.0</td>\n",
       "      <td>6.250000</td>\n",
       "      <td>17.0</td>\n",
       "      <td>3.500000</td>\n",
       "      <td>4.0</td>\n",
       "      <td>19.0</td>\n",
       "      <td>10.0</td>\n",
       "      <td>0.0</td>\n",
       "      <td>...</td>\n",
       "      <td>1.0</td>\n",
       "      <td>9.0</td>\n",
       "      <td>8.0</td>\n",
       "      <td>7.0</td>\n",
       "      <td>0.683476</td>\n",
       "      <td>0.768811</td>\n",
       "      <td>0.916667</td>\n",
       "      <td>0.742090</td>\n",
       "      <td>0.750292</td>\n",
       "      <td>0.741506</td>\n",
       "    </tr>\n",
       "    <tr>\n",
       "      <th>4</th>\n",
       "      <td>23.0</td>\n",
       "      <td>4.0</td>\n",
       "      <td>10.0</td>\n",
       "      <td>6.250000</td>\n",
       "      <td>17.0</td>\n",
       "      <td>3.500000</td>\n",
       "      <td>4.0</td>\n",
       "      <td>19.0</td>\n",
       "      <td>10.0</td>\n",
       "      <td>0.0</td>\n",
       "      <td>...</td>\n",
       "      <td>1.0</td>\n",
       "      <td>9.0</td>\n",
       "      <td>8.0</td>\n",
       "      <td>7.0</td>\n",
       "      <td>0.687286</td>\n",
       "      <td>0.768811</td>\n",
       "      <td>0.916667</td>\n",
       "      <td>0.747622</td>\n",
       "      <td>0.756298</td>\n",
       "      <td>0.748268</td>\n",
       "    </tr>\n",
       "    <tr>\n",
       "      <th>...</th>\n",
       "      <td>...</td>\n",
       "      <td>...</td>\n",
       "      <td>...</td>\n",
       "      <td>...</td>\n",
       "      <td>...</td>\n",
       "      <td>...</td>\n",
       "      <td>...</td>\n",
       "      <td>...</td>\n",
       "      <td>...</td>\n",
       "      <td>...</td>\n",
       "      <td>...</td>\n",
       "      <td>...</td>\n",
       "      <td>...</td>\n",
       "      <td>...</td>\n",
       "      <td>...</td>\n",
       "      <td>...</td>\n",
       "      <td>...</td>\n",
       "      <td>...</td>\n",
       "      <td>...</td>\n",
       "      <td>...</td>\n",
       "      <td>...</td>\n",
       "    </tr>\n",
       "    <tr>\n",
       "      <th>18977</th>\n",
       "      <td>29.0</td>\n",
       "      <td>4.0</td>\n",
       "      <td>14.0</td>\n",
       "      <td>5.750000</td>\n",
       "      <td>12.0</td>\n",
       "      <td>3.666667</td>\n",
       "      <td>4.0</td>\n",
       "      <td>20.0</td>\n",
       "      <td>24.0</td>\n",
       "      <td>3.0</td>\n",
       "      <td>...</td>\n",
       "      <td>11.0</td>\n",
       "      <td>3.0</td>\n",
       "      <td>2.0</td>\n",
       "      <td>7.0</td>\n",
       "      <td>0.690555</td>\n",
       "      <td>0.791265</td>\n",
       "      <td>0.777498</td>\n",
       "      <td>0.690227</td>\n",
       "      <td>0.656684</td>\n",
       "      <td>0.796205</td>\n",
       "    </tr>\n",
       "    <tr>\n",
       "      <th>18978</th>\n",
       "      <td>0.0</td>\n",
       "      <td>4.0</td>\n",
       "      <td>13.0</td>\n",
       "      <td>3.750000</td>\n",
       "      <td>8.0</td>\n",
       "      <td>8.461538</td>\n",
       "      <td>4.0</td>\n",
       "      <td>24.0</td>\n",
       "      <td>23.0</td>\n",
       "      <td>0.0</td>\n",
       "      <td>...</td>\n",
       "      <td>2.0</td>\n",
       "      <td>16.0</td>\n",
       "      <td>15.0</td>\n",
       "      <td>-1.0</td>\n",
       "      <td>0.665492</td>\n",
       "      <td>0.820010</td>\n",
       "      <td>0.879588</td>\n",
       "      <td>0.674400</td>\n",
       "      <td>0.674671</td>\n",
       "      <td>-1.000000</td>\n",
       "    </tr>\n",
       "    <tr>\n",
       "      <th>18979</th>\n",
       "      <td>58.0</td>\n",
       "      <td>3.0</td>\n",
       "      <td>27.0</td>\n",
       "      <td>6.666666</td>\n",
       "      <td>16.0</td>\n",
       "      <td>3.375000</td>\n",
       "      <td>3.0</td>\n",
       "      <td>41.0</td>\n",
       "      <td>34.0</td>\n",
       "      <td>20.0</td>\n",
       "      <td>...</td>\n",
       "      <td>14.0</td>\n",
       "      <td>8.0</td>\n",
       "      <td>7.0</td>\n",
       "      <td>9.0</td>\n",
       "      <td>0.656807</td>\n",
       "      <td>0.801139</td>\n",
       "      <td>0.684777</td>\n",
       "      <td>0.713622</td>\n",
       "      <td>0.717187</td>\n",
       "      <td>0.705245</td>\n",
       "    </tr>\n",
       "    <tr>\n",
       "      <th>18980</th>\n",
       "      <td>35.0</td>\n",
       "      <td>3.0</td>\n",
       "      <td>13.0</td>\n",
       "      <td>4.333334</td>\n",
       "      <td>9.0</td>\n",
       "      <td>3.600000</td>\n",
       "      <td>3.0</td>\n",
       "      <td>15.0</td>\n",
       "      <td>13.0</td>\n",
       "      <td>7.0</td>\n",
       "      <td>...</td>\n",
       "      <td>1.0</td>\n",
       "      <td>9.0</td>\n",
       "      <td>8.0</td>\n",
       "      <td>3.0</td>\n",
       "      <td>0.725963</td>\n",
       "      <td>0.897617</td>\n",
       "      <td>0.871049</td>\n",
       "      <td>0.745932</td>\n",
       "      <td>0.758824</td>\n",
       "      <td>0.790772</td>\n",
       "    </tr>\n",
       "    <tr>\n",
       "      <th>18981</th>\n",
       "      <td>40.0</td>\n",
       "      <td>3.0</td>\n",
       "      <td>25.0</td>\n",
       "      <td>6.666666</td>\n",
       "      <td>16.0</td>\n",
       "      <td>3.250000</td>\n",
       "      <td>3.0</td>\n",
       "      <td>35.0</td>\n",
       "      <td>31.0</td>\n",
       "      <td>19.0</td>\n",
       "      <td>...</td>\n",
       "      <td>13.0</td>\n",
       "      <td>7.0</td>\n",
       "      <td>6.0</td>\n",
       "      <td>7.0</td>\n",
       "      <td>0.674351</td>\n",
       "      <td>0.801139</td>\n",
       "      <td>0.697282</td>\n",
       "      <td>0.730563</td>\n",
       "      <td>0.731481</td>\n",
       "      <td>0.769238</td>\n",
       "    </tr>\n",
       "  </tbody>\n",
       "</table>\n",
       "<p>18982 rows × 79 columns</p>\n",
       "</div>"
      ],
      "text/plain": [
       "         0    1     2         3     4         5    6     7     8     9   ...  \\\n",
       "0       0.0  4.0   4.0  6.250000  17.0  3.750000  4.0   4.0   2.0   0.0  ...   \n",
       "1      22.0  4.0  10.0  6.250000  17.0  3.500000  4.0  19.0  10.0   0.0  ...   \n",
       "2      23.0  4.0  10.0  6.250000  17.0  3.500000  4.0  19.0  10.0   0.0  ...   \n",
       "3      22.0  4.0  10.0  6.250000  17.0  3.500000  4.0  19.0  10.0   0.0  ...   \n",
       "4      23.0  4.0  10.0  6.250000  17.0  3.500000  4.0  19.0  10.0   0.0  ...   \n",
       "...     ...  ...   ...       ...   ...       ...  ...   ...   ...   ...  ...   \n",
       "18977  29.0  4.0  14.0  5.750000  12.0  3.666667  4.0  20.0  24.0   3.0  ...   \n",
       "18978   0.0  4.0  13.0  3.750000   8.0  8.461538  4.0  24.0  23.0   0.0  ...   \n",
       "18979  58.0  3.0  27.0  6.666666  16.0  3.375000  3.0  41.0  34.0  20.0  ...   \n",
       "18980  35.0  3.0  13.0  4.333334   9.0  3.600000  3.0  15.0  13.0   7.0  ...   \n",
       "18981  40.0  3.0  25.0  6.666666  16.0  3.250000  3.0  35.0  31.0  19.0  ...   \n",
       "\n",
       "         69    70    71   72        73        74        75        76  \\\n",
       "0       1.0   1.0   0.0 -1.0  0.726945  0.768811  0.916667  1.000000   \n",
       "1       1.0   9.0   8.0  7.0  0.686486  0.768811  0.916667  0.748105   \n",
       "2       1.0   9.0   8.0  7.0  0.687286  0.768811  0.916667  0.747622   \n",
       "3       1.0   9.0   8.0  7.0  0.683476  0.768811  0.916667  0.742090   \n",
       "4       1.0   9.0   8.0  7.0  0.687286  0.768811  0.916667  0.747622   \n",
       "...     ...   ...   ...  ...       ...       ...       ...       ...   \n",
       "18977  11.0   3.0   2.0  7.0  0.690555  0.791265  0.777498  0.690227   \n",
       "18978   2.0  16.0  15.0 -1.0  0.665492  0.820010  0.879588  0.674400   \n",
       "18979  14.0   8.0   7.0  9.0  0.656807  0.801139  0.684777  0.713622   \n",
       "18980   1.0   9.0   8.0  3.0  0.725963  0.897617  0.871049  0.745932   \n",
       "18981  13.0   7.0   6.0  7.0  0.674351  0.801139  0.697282  0.730563   \n",
       "\n",
       "             77        78  \n",
       "0      1.000000 -1.000000  \n",
       "1      0.757206  0.749167  \n",
       "2      0.756298  0.748268  \n",
       "3      0.750292  0.741506  \n",
       "4      0.756298  0.748268  \n",
       "...         ...       ...  \n",
       "18977  0.656684  0.796205  \n",
       "18978  0.674671 -1.000000  \n",
       "18979  0.717187  0.705245  \n",
       "18980  0.758824  0.790772  \n",
       "18981  0.731481  0.769238  \n",
       "\n",
       "[18982 rows x 79 columns]"
      ]
     },
     "execution_count": 5,
     "metadata": {},
     "output_type": "execute_result"
    }
   ],
   "source": [
    "print('x shape:',x.shape)\n",
    "x"
   ]
  },
  {
   "cell_type": "code",
   "execution_count": 6,
   "metadata": {},
   "outputs": [
    {
     "data": {
      "text/plain": [
       "array([1, 1, 1, ..., 4, 4, 4])"
      ]
     },
     "execution_count": 6,
     "metadata": {},
     "output_type": "execute_result"
    }
   ],
   "source": [
    "y"
   ]
  },
  {
   "cell_type": "code",
   "execution_count": null,
   "metadata": {},
   "outputs": [],
   "source": []
  },
  {
   "cell_type": "code",
   "execution_count": 7,
   "metadata": {},
   "outputs": [
    {
     "name": "stdout",
     "output_type": "stream",
     "text": [
      "PCA(n_components=40)\n",
      "               0           1          2          3          4          5   \\\n",
      "0     -136.574520  -38.501635   2.451011  -4.966203 -11.946473  -0.169309   \n",
      "1      -24.262282   -4.056846 -20.321153   0.379380 -20.888712  13.897655   \n",
      "2      -22.128913   -3.236712 -21.014430  -0.092381 -19.558100  13.633671   \n",
      "3      -24.262285   -4.056845 -20.321036   0.379571 -20.888718  13.897591   \n",
      "4      -22.128913   -3.236712 -21.014430  -0.092381 -19.558100  13.633671   \n",
      "...           ...         ...        ...        ...        ...        ...   \n",
      "18977   41.430535   61.027652   0.241592 -51.332609  -3.140831   9.903167   \n",
      "18978   31.962945   77.764563 -29.459925  67.908437 -17.654737 -34.958876   \n",
      "18979  262.027644  152.865234 -18.533206 -66.466424   7.202194  10.608194   \n",
      "18980   29.414986   10.329794 -32.266994  -4.866811  21.101113   0.283944   \n",
      "18981  218.228277  140.768416 -36.112397 -41.959959   6.670507  11.352067   \n",
      "\n",
      "              6          7          8          9   ...        30        31  \\\n",
      "0      22.313600   6.596985   1.341949  -3.039330  ...  0.777544  1.390429   \n",
      "1      17.834644   7.059265  -9.184518   1.123238  ... -0.494315  0.609445   \n",
      "2      18.127959   6.704221  -9.574085   1.373544  ... -0.487408  0.551844   \n",
      "3      17.834717   7.059417  -9.184321   1.123649  ... -0.492406  0.608772   \n",
      "4      18.127959   6.704221  -9.574085   1.373544  ... -0.487408  0.551844   \n",
      "...          ...        ...        ...        ...  ...       ...       ...   \n",
      "18977   9.131315   2.807256   6.147380  14.506402  ... -0.833609 -0.051123   \n",
      "18978   0.938923   7.502298 -16.403537  -8.587195  ...  0.960071 -0.793161   \n",
      "18979   1.529969   9.738178  27.578363  -6.077391  ... -0.658168 -1.167596   \n",
      "18980   5.783228  -9.105714  -1.736192  -3.994636  ...  0.698841 -0.404413   \n",
      "18981   5.431939  14.495087  27.951169  -8.373651  ...  0.107501 -0.263317   \n",
      "\n",
      "             32        33        34        35        36        37        38  \\\n",
      "0     -0.239565  0.031168 -0.719168  1.611960 -0.030766 -0.115191  0.350140   \n",
      "1     -0.483325  0.739441 -0.214249  0.619973 -0.017826  0.160123  0.826697   \n",
      "2     -0.543847  0.778901 -0.237274  0.648586  0.098183  0.166508  0.760046   \n",
      "3     -0.480594  0.737827 -0.213029  0.621651 -0.015270  0.161142  0.826576   \n",
      "4     -0.543847  0.778901 -0.237274  0.648586  0.098183  0.166508  0.760046   \n",
      "...         ...       ...       ...       ...       ...       ...       ...   \n",
      "18977  1.034244 -0.658176 -0.301362  0.044184  0.638145  0.196350  0.055363   \n",
      "18978  0.085313 -0.966707  0.141169 -0.055514 -0.333800  0.192717 -0.098642   \n",
      "18979  0.825551  2.059629  0.655642  0.350917  0.934026 -0.060389  0.952267   \n",
      "18980 -1.749266  0.216690  0.246076 -0.003221 -0.464225 -0.111907  0.518696   \n",
      "18981  0.668138  2.072735  0.469355  0.152865  1.055242 -0.256011  0.385575   \n",
      "\n",
      "             39  \n",
      "0      0.180483  \n",
      "1      0.173930  \n",
      "2      0.160630  \n",
      "3      0.174820  \n",
      "4      0.160630  \n",
      "...         ...  \n",
      "18977  0.163366  \n",
      "18978  0.232667  \n",
      "18979 -0.204279  \n",
      "18980 -0.480203  \n",
      "18981  0.030162  \n",
      "\n",
      "[18982 rows x 40 columns]\n"
     ]
    }
   ],
   "source": [
    "\n",
    "pca = PCA(40)\n",
    "print(pca)\n",
    "principalComponents = pca.fit_transform(x)\n",
    "principalDf = pd.DataFrame(data = principalComponents)\n",
    "X = principalDf\n",
    "\n",
    "print(X)\n",
    "    "
   ]
  },
  {
   "cell_type": "code",
   "execution_count": 8,
   "metadata": {},
   "outputs": [
    {
     "name": "stdout",
     "output_type": "stream",
     "text": [
      "0.8859626020542534\n"
     ]
    }
   ],
   "source": [
    "X_train, X_test, y_train, y_test = train_test_split(X, y, test_size=0.2, random_state=0)\n",
    "regressor = RandomForestRegressor(n_estimators=30, random_state=0)\n",
    "regressor.fit(X_train, y_train)\n",
    "y_pred = regressor.predict(X_test)\n",
    "y_pred =np.round(y_pred,0)\n",
    "score = accuracy_score(y_test, y_pred)\n",
    "print(score)\n"
   ]
  },
  {
   "cell_type": "code",
   "execution_count": null,
   "metadata": {},
   "outputs": [],
   "source": []
  },
  {
   "cell_type": "code",
   "execution_count": null,
   "metadata": {},
   "outputs": [],
   "source": []
  },
  {
   "cell_type": "code",
   "execution_count": 9,
   "metadata": {},
   "outputs": [],
   "source": [
    "def pca_randomForest(n):\n",
    "    pca = PCA(n)\n",
    "    print(pca)\n",
    "    principalComponents = pca.fit_transform(x)\n",
    "    principalDf = pd.DataFrame(data = principalComponents)\n",
    "    X = principalDf\n",
    "    X_train, X_test, y_train, y_test = train_test_split(X, y, test_size=0.2, random_state=0)\n",
    "    regressor = RandomForestRegressor(n_estimators=30, random_state=0)\n",
    "    regressor.fit(X_train, y_train)\n",
    "    y_pred = regressor.predict(X_test)\n",
    "    y_pred =np.round(y_pred,0)\n",
    "    score = accuracy_score(y_test, y_pred)\n",
    "    print(score)\n",
    "    return score"
   ]
  },
  {
   "cell_type": "code",
   "execution_count": 10,
   "metadata": {},
   "outputs": [
    {
     "name": "stdout",
     "output_type": "stream",
     "text": [
      "PCA(n_components=10)\n",
      "0.8680537266262839\n"
     ]
    },
    {
     "data": {
      "text/plain": [
       "0.8680537266262839"
      ]
     },
     "execution_count": 10,
     "metadata": {},
     "output_type": "execute_result"
    }
   ],
   "source": [
    "pca_randomForest(10)"
   ]
  },
  {
   "cell_type": "code",
   "execution_count": 11,
   "metadata": {},
   "outputs": [
    {
     "name": "stdout",
     "output_type": "stream",
     "text": [
      "PCA(n_components=5)\n",
      "0.8356597313668686\n",
      "PCA(n_components=10)\n",
      "0.8675269949960495\n",
      "PCA(n_components=20)\n",
      "0.8754279694495655\n",
      "PCA(n_components=40)\n",
      "0.886752699499605\n",
      "PCA(n_components=79)\n",
      "0.8870160653147221\n"
     ]
    }
   ],
   "source": [
    "s=[]\n",
    "s.append(pca_randomForest(5))\n",
    "s.append(pca_randomForest(10))\n",
    "s.append(pca_randomForest(20))\n",
    "s.append(pca_randomForest(40))\n",
    "s.append(pca_randomForest(79))"
   ]
  },
  {
   "cell_type": "code",
   "execution_count": 12,
   "metadata": {},
   "outputs": [
    {
     "data": {
      "image/png": "[encoded data removed]",
      "text/plain": [
       "<Figure size 432x288 with 1 Axes>"
      ]
     },
     "metadata": {
      "needs_background": "light"
     },
     "output_type": "display_data"
    }
   ],
   "source": [
    "from matplotlib import pyplot as plt \n",
    "x =['PCA5','PCA10','PCA20','PCA40','PCA79']\n",
    "y = [s[0],s[1],s[2],s[3],s[4]]\n",
    "plt.ylim(0.8, 0.93)\n",
    "plt.bar(x,y)\n",
    "plt.show()"
   ]
  },
  {
   "cell_type": "code",
   "execution_count": null,
   "metadata": {},
   "outputs": [],
   "source": []
  },
  {
   "cell_type": "code",
   "execution_count": null,
   "metadata": {},
   "outputs": [],
   "source": []
  },
  {
   "cell_type": "code",
   "execution_count": null,
   "metadata": {},
   "outputs": [],
   "source": []
  }
 ],
 "metadata": {
  "kernelspec": {
   "display_name": "Python 3",
   "language": "python",
   "name": "python3"
  },
  "language_info": {
   "codemirror_mode": {
    "name": "ipython",
    "version": 3
   },
   "file_extension": ".py",
   "mimetype": "text/x-python",
   "name": "python",
   "nbconvert_exporter": "python",
   "pygments_lexer": "ipython3",
   "version": "3.8.3"
  }
 },
 "nbformat": 4,
 "nbformat_minor": 4
}
