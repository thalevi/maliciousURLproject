{
 "cells": [
  {
   "cell_type": "code",
   "execution_count": 1,
   "metadata": {},
   "outputs": [],
   "source": [
    "import pandas as pd\n",
    "import numpy as np"
   ]
  },
  {
   "cell_type": "code",
   "execution_count": 2,
   "metadata": {},
   "outputs": [
    {
     "data": {
      "text/plain": [
       "(36707, 80)"
      ]
     },
     "execution_count": 2,
     "metadata": {},
     "output_type": "execute_result"
    }
   ],
   "source": [
    "dataset = pd.read_csv('All.csv')\n",
    "dataset.shape"
   ]
  },
  {
   "cell_type": "code",
   "execution_count": null,
   "metadata": {},
   "outputs": [],
   "source": []
  },
  {
   "cell_type": "code",
   "execution_count": 4,
   "metadata": {},
   "outputs": [],
   "source": [
    "##delete Nan values and seperate x and y\n",
    "# y as result\n",
    "dataset = pd.DataFrame(dataset)\n",
    "dataset.dropna(inplace = True)\n",
    "x = dataset.iloc[:, 0:79].values\n",
    "y = dataset.iloc[:, 79].values\n",
    "y=pd.DataFrame(y)"
   ]
  },
  {
   "cell_type": "code",
   "execution_count": 5,
   "metadata": {},
   "outputs": [],
   "source": [
    "##StandardScaler\n",
    "from sklearn.preprocessing import StandardScaler\n",
    "sc = StandardScaler()\n",
    "x_train = sc.fit_transform(x)"
   ]
  },
  {
   "cell_type": "code",
   "execution_count": 6,
   "metadata": {},
   "outputs": [],
   "source": [
    "from sklearn.decomposition import PCA\n"
   ]
  },
  {
   "cell_type": "code",
   "execution_count": 7,
   "metadata": {},
   "outputs": [],
   "source": [
    "def PCA_component(n_components):\n",
    "    pca = PCA(n_components)\n",
    "    print(pca)\n",
    "    pca.fit(x)\n",
    "    X_transformed = pca.transform(x)\n",
    "    print(pca.explained_variance_.round(2))"
   ]
  },
  {
   "cell_type": "code",
   "execution_count": 8,
   "metadata": {},
   "outputs": [
    {
     "name": "stdout",
     "output_type": "stream",
     "text": [
      "PCA(n_components=5)\n",
      "[150636.24   1628.35    519.79    428.69    292.54]\n"
     ]
    }
   ],
   "source": [
    "PCA_component(5)"
   ]
  },
  {
   "cell_type": "code",
   "execution_count": 9,
   "metadata": {},
   "outputs": [
    {
     "name": "stdout",
     "output_type": "stream",
     "text": [
      "PCA(n_components=10)\n",
      "[1.5063624e+05 1.6283500e+03 5.1979000e+02 4.2869000e+02 2.9254000e+02\n",
      " 1.9998000e+02 1.2693000e+02 6.9010000e+01 5.8150000e+01 3.9220000e+01]\n"
     ]
    }
   ],
   "source": [
    "PCA_component(10)"
   ]
  },
  {
   "cell_type": "code",
   "execution_count": 10,
   "metadata": {},
   "outputs": [
    {
     "name": "stdout",
     "output_type": "stream",
     "text": [
      "PCA(n_components=20)\n",
      "[1.5063624e+05 1.6283500e+03 5.1979000e+02 4.2869000e+02 2.9254000e+02\n",
      " 1.9998000e+02 1.2693000e+02 6.9010000e+01 5.8150000e+01 3.9220000e+01\n",
      " 2.7510000e+01 2.3090000e+01 2.1080000e+01 1.6040000e+01 1.4850000e+01\n",
      " 1.3890000e+01 1.3530000e+01 9.6600000e+00 8.1000000e+00 6.7800000e+00]\n"
     ]
    }
   ],
   "source": [
    "PCA_component(20)"
   ]
  },
  {
   "cell_type": "code",
   "execution_count": 11,
   "metadata": {},
   "outputs": [
    {
     "name": "stdout",
     "output_type": "stream",
     "text": [
      "PCA(n_components=50)\n",
      "[1.5063624e+05 1.6283500e+03 5.1979000e+02 4.2869000e+02 2.9254000e+02\n",
      " 1.9998000e+02 1.2693000e+02 6.9010000e+01 5.8150000e+01 3.9220000e+01\n",
      " 2.7510000e+01 2.3090000e+01 2.1080000e+01 1.6040000e+01 1.4850000e+01\n",
      " 1.3890000e+01 1.3530000e+01 9.6600000e+00 8.1000000e+00 6.7800000e+00\n",
      " 5.5200000e+00 4.7400000e+00 3.8400000e+00 2.9800000e+00 2.4400000e+00\n",
      " 2.3600000e+00 2.1800000e+00 1.9000000e+00 1.5500000e+00 1.4300000e+00\n",
      " 9.2000000e-01 8.1000000e-01 6.9000000e-01 5.9000000e-01 5.6000000e-01\n",
      " 4.9000000e-01 4.1000000e-01 3.3000000e-01 3.2000000e-01 2.2000000e-01\n",
      " 2.0000000e-01 1.8000000e-01 1.7000000e-01 1.5000000e-01 1.1000000e-01\n",
      " 1.0000000e-01 9.0000000e-02 7.0000000e-02 7.0000000e-02 4.0000000e-02]\n"
     ]
    }
   ],
   "source": [
    "PCA_component(50)"
   ]
  },
  {
   "cell_type": "code",
   "execution_count": 12,
   "metadata": {},
   "outputs": [
    {
     "name": "stdout",
     "output_type": "stream",
     "text": [
      "PCA(n_components=79)\n",
      "[1.5063624e+05 1.6283500e+03 5.1979000e+02 4.2869000e+02 2.9254000e+02\n",
      " 1.9998000e+02 1.2693000e+02 6.9010000e+01 5.8150000e+01 3.9220000e+01\n",
      " 2.7510000e+01 2.3090000e+01 2.1080000e+01 1.6040000e+01 1.4850000e+01\n",
      " 1.3890000e+01 1.3530000e+01 9.6600000e+00 8.1000000e+00 6.7800000e+00\n",
      " 5.5200000e+00 4.7400000e+00 3.8400000e+00 2.9800000e+00 2.4400000e+00\n",
      " 2.3600000e+00 2.1800000e+00 1.9000000e+00 1.5500000e+00 1.4300000e+00\n",
      " 9.2000000e-01 8.1000000e-01 6.9000000e-01 5.9000000e-01 5.6000000e-01\n",
      " 4.9000000e-01 4.1000000e-01 3.3000000e-01 3.2000000e-01 2.2000000e-01\n",
      " 2.0000000e-01 1.8000000e-01 1.7000000e-01 1.5000000e-01 1.1000000e-01\n",
      " 1.0000000e-01 9.0000000e-02 7.0000000e-02 7.0000000e-02 4.0000000e-02\n",
      " 4.0000000e-02 3.0000000e-02 2.0000000e-02 2.0000000e-02 2.0000000e-02\n",
      " 1.0000000e-02 1.0000000e-02 1.0000000e-02 1.0000000e-02 0.0000000e+00\n",
      " 0.0000000e+00 0.0000000e+00 0.0000000e+00 0.0000000e+00 0.0000000e+00\n",
      " 0.0000000e+00 0.0000000e+00 0.0000000e+00 0.0000000e+00 0.0000000e+00\n",
      " 0.0000000e+00 0.0000000e+00 0.0000000e+00 0.0000000e+00 0.0000000e+00\n",
      " 0.0000000e+00 0.0000000e+00 0.0000000e+00 0.0000000e+00]\n"
     ]
    }
   ],
   "source": [
    "PCA_component(79)"
   ]
  },
  {
   "cell_type": "code",
   "execution_count": null,
   "metadata": {},
   "outputs": [],
   "source": []
  },
  {
   "cell_type": "code",
   "execution_count": null,
   "metadata": {},
   "outputs": [],
   "source": []
  },
  {
   "cell_type": "code",
   "execution_count": null,
   "metadata": {},
   "outputs": [],
   "source": []
  }
 ],
 "metadata": {
  "kernelspec": {
   "display_name": "Python 3",
   "language": "python",
   "name": "python3"
  },
  "language_info": {
   "codemirror_mode": {
    "name": "ipython",
    "version": 3
   },
   "file_extension": ".py",
   "mimetype": "text/x-python",
   "name": "python",
   "nbconvert_exporter": "python",
   "pygments_lexer": "ipython3",
   "version": "3.8.3"
  }
 },
 "nbformat": 4,
 "nbformat_minor": 4
}
