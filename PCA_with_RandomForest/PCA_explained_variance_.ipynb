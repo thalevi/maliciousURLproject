{
 "cells": [
  {
   "cell_type": "code",
   "execution_count": 1,
   "metadata": {},
   "outputs": [],
   "source": [
    "import pandas as pd\n",
    "import numpy as np"
   ]
  },
  {
   "cell_type": "code",
   "execution_count": 2,
   "metadata": {},
   "outputs": [
    {
     "data": {
      "text/plain": [
       "(36707, 80)"
      ]
     },
     "execution_count": 2,
     "metadata": {},
     "output_type": "execute_result"
    }
   ],
   "source": [
    "dataset = pd.read_csv('All.csv')\n",
    "dataset.shape"
   ]
  },
  {
   "cell_type": "code",
   "execution_count": 15,
   "metadata": {},
   "outputs": [
    {
     "data": {
      "text/html": [
       "<div>\n",
       "<style scoped>\n",
       "    .dataframe tbody tr th:only-of-type {\n",
       "        vertical-align: middle;\n",
       "    }\n",
       "\n",
       "    .dataframe tbody tr th {\n",
       "        vertical-align: top;\n",
       "    }\n",
       "\n",
       "    .dataframe thead th {\n",
       "        text-align: right;\n",
       "    }\n",
       "</style>\n",
       "<table border=\"1\" class=\"dataframe\">\n",
       "  <thead>\n",
       "    <tr style=\"text-align: right;\">\n",
       "      <th></th>\n",
       "      <th>Querylength</th>\n",
       "      <th>domain_token_count</th>\n",
       "      <th>path_token_count</th>\n",
       "      <th>avgdomaintokenlen</th>\n",
       "      <th>longdomaintokenlen</th>\n",
       "      <th>avgpathtokenlen</th>\n",
       "      <th>tld</th>\n",
       "      <th>charcompvowels</th>\n",
       "      <th>charcompace</th>\n",
       "      <th>ldl_url</th>\n",
       "      <th>...</th>\n",
       "      <th>SymbolCount_FileName</th>\n",
       "      <th>SymbolCount_Extension</th>\n",
       "      <th>SymbolCount_Afterpath</th>\n",
       "      <th>Entropy_URL</th>\n",
       "      <th>Entropy_Domain</th>\n",
       "      <th>Entropy_DirectoryName</th>\n",
       "      <th>Entropy_Filename</th>\n",
       "      <th>Entropy_Extension</th>\n",
       "      <th>Entropy_Afterpath</th>\n",
       "      <th>URL_Type_obf_Type</th>\n",
       "    </tr>\n",
       "  </thead>\n",
       "  <tbody>\n",
       "    <tr>\n",
       "      <th>35</th>\n",
       "      <td>0</td>\n",
       "      <td>4</td>\n",
       "      <td>4</td>\n",
       "      <td>6.250000</td>\n",
       "      <td>17</td>\n",
       "      <td>3.750000</td>\n",
       "      <td>4</td>\n",
       "      <td>4</td>\n",
       "      <td>2</td>\n",
       "      <td>0</td>\n",
       "      <td>...</td>\n",
       "      <td>1</td>\n",
       "      <td>0</td>\n",
       "      <td>-1</td>\n",
       "      <td>0.726945</td>\n",
       "      <td>0.768811</td>\n",
       "      <td>0.916667</td>\n",
       "      <td>1.000000</td>\n",
       "      <td>1.000000</td>\n",
       "      <td>-1.000000</td>\n",
       "      <td>Defacement</td>\n",
       "    </tr>\n",
       "    <tr>\n",
       "      <th>37</th>\n",
       "      <td>22</td>\n",
       "      <td>4</td>\n",
       "      <td>10</td>\n",
       "      <td>6.250000</td>\n",
       "      <td>17</td>\n",
       "      <td>3.500000</td>\n",
       "      <td>4</td>\n",
       "      <td>19</td>\n",
       "      <td>10</td>\n",
       "      <td>0</td>\n",
       "      <td>...</td>\n",
       "      <td>9</td>\n",
       "      <td>8</td>\n",
       "      <td>7</td>\n",
       "      <td>0.686486</td>\n",
       "      <td>0.768811</td>\n",
       "      <td>0.916667</td>\n",
       "      <td>0.748105</td>\n",
       "      <td>0.757206</td>\n",
       "      <td>0.749167</td>\n",
       "      <td>Defacement</td>\n",
       "    </tr>\n",
       "    <tr>\n",
       "      <th>38</th>\n",
       "      <td>23</td>\n",
       "      <td>4</td>\n",
       "      <td>10</td>\n",
       "      <td>6.250000</td>\n",
       "      <td>17</td>\n",
       "      <td>3.500000</td>\n",
       "      <td>4</td>\n",
       "      <td>19</td>\n",
       "      <td>10</td>\n",
       "      <td>0</td>\n",
       "      <td>...</td>\n",
       "      <td>9</td>\n",
       "      <td>8</td>\n",
       "      <td>7</td>\n",
       "      <td>0.687286</td>\n",
       "      <td>0.768811</td>\n",
       "      <td>0.916667</td>\n",
       "      <td>0.747622</td>\n",
       "      <td>0.756298</td>\n",
       "      <td>0.748268</td>\n",
       "      <td>Defacement</td>\n",
       "    </tr>\n",
       "    <tr>\n",
       "      <th>39</th>\n",
       "      <td>22</td>\n",
       "      <td>4</td>\n",
       "      <td>10</td>\n",
       "      <td>6.250000</td>\n",
       "      <td>17</td>\n",
       "      <td>3.500000</td>\n",
       "      <td>4</td>\n",
       "      <td>19</td>\n",
       "      <td>10</td>\n",
       "      <td>0</td>\n",
       "      <td>...</td>\n",
       "      <td>9</td>\n",
       "      <td>8</td>\n",
       "      <td>7</td>\n",
       "      <td>0.683476</td>\n",
       "      <td>0.768811</td>\n",
       "      <td>0.916667</td>\n",
       "      <td>0.742090</td>\n",
       "      <td>0.750292</td>\n",
       "      <td>0.741506</td>\n",
       "      <td>Defacement</td>\n",
       "    </tr>\n",
       "    <tr>\n",
       "      <th>40</th>\n",
       "      <td>23</td>\n",
       "      <td>4</td>\n",
       "      <td>10</td>\n",
       "      <td>6.250000</td>\n",
       "      <td>17</td>\n",
       "      <td>3.500000</td>\n",
       "      <td>4</td>\n",
       "      <td>19</td>\n",
       "      <td>10</td>\n",
       "      <td>0</td>\n",
       "      <td>...</td>\n",
       "      <td>9</td>\n",
       "      <td>8</td>\n",
       "      <td>7</td>\n",
       "      <td>0.687286</td>\n",
       "      <td>0.768811</td>\n",
       "      <td>0.916667</td>\n",
       "      <td>0.747622</td>\n",
       "      <td>0.756298</td>\n",
       "      <td>0.748268</td>\n",
       "      <td>Defacement</td>\n",
       "    </tr>\n",
       "    <tr>\n",
       "      <th>...</th>\n",
       "      <td>...</td>\n",
       "      <td>...</td>\n",
       "      <td>...</td>\n",
       "      <td>...</td>\n",
       "      <td>...</td>\n",
       "      <td>...</td>\n",
       "      <td>...</td>\n",
       "      <td>...</td>\n",
       "      <td>...</td>\n",
       "      <td>...</td>\n",
       "      <td>...</td>\n",
       "      <td>...</td>\n",
       "      <td>...</td>\n",
       "      <td>...</td>\n",
       "      <td>...</td>\n",
       "      <td>...</td>\n",
       "      <td>...</td>\n",
       "      <td>...</td>\n",
       "      <td>...</td>\n",
       "      <td>...</td>\n",
       "      <td>...</td>\n",
       "    </tr>\n",
       "    <tr>\n",
       "      <th>36702</th>\n",
       "      <td>29</td>\n",
       "      <td>4</td>\n",
       "      <td>14</td>\n",
       "      <td>5.750000</td>\n",
       "      <td>12</td>\n",
       "      <td>3.666667</td>\n",
       "      <td>4</td>\n",
       "      <td>20</td>\n",
       "      <td>24</td>\n",
       "      <td>3</td>\n",
       "      <td>...</td>\n",
       "      <td>3</td>\n",
       "      <td>2</td>\n",
       "      <td>7</td>\n",
       "      <td>0.690555</td>\n",
       "      <td>0.791265</td>\n",
       "      <td>0.777498</td>\n",
       "      <td>0.690227</td>\n",
       "      <td>0.656684</td>\n",
       "      <td>0.796205</td>\n",
       "      <td>spam</td>\n",
       "    </tr>\n",
       "    <tr>\n",
       "      <th>36703</th>\n",
       "      <td>0</td>\n",
       "      <td>4</td>\n",
       "      <td>13</td>\n",
       "      <td>3.750000</td>\n",
       "      <td>8</td>\n",
       "      <td>8.461538</td>\n",
       "      <td>4</td>\n",
       "      <td>24</td>\n",
       "      <td>23</td>\n",
       "      <td>0</td>\n",
       "      <td>...</td>\n",
       "      <td>16</td>\n",
       "      <td>15</td>\n",
       "      <td>-1</td>\n",
       "      <td>0.665492</td>\n",
       "      <td>0.820010</td>\n",
       "      <td>0.879588</td>\n",
       "      <td>0.674400</td>\n",
       "      <td>0.674671</td>\n",
       "      <td>-1.000000</td>\n",
       "      <td>spam</td>\n",
       "    </tr>\n",
       "    <tr>\n",
       "      <th>36704</th>\n",
       "      <td>58</td>\n",
       "      <td>3</td>\n",
       "      <td>27</td>\n",
       "      <td>6.666666</td>\n",
       "      <td>16</td>\n",
       "      <td>3.375000</td>\n",
       "      <td>3</td>\n",
       "      <td>41</td>\n",
       "      <td>34</td>\n",
       "      <td>20</td>\n",
       "      <td>...</td>\n",
       "      <td>8</td>\n",
       "      <td>7</td>\n",
       "      <td>9</td>\n",
       "      <td>0.656807</td>\n",
       "      <td>0.801139</td>\n",
       "      <td>0.684777</td>\n",
       "      <td>0.713622</td>\n",
       "      <td>0.717187</td>\n",
       "      <td>0.705245</td>\n",
       "      <td>spam</td>\n",
       "    </tr>\n",
       "    <tr>\n",
       "      <th>36705</th>\n",
       "      <td>35</td>\n",
       "      <td>3</td>\n",
       "      <td>13</td>\n",
       "      <td>4.333334</td>\n",
       "      <td>9</td>\n",
       "      <td>3.600000</td>\n",
       "      <td>3</td>\n",
       "      <td>15</td>\n",
       "      <td>13</td>\n",
       "      <td>7</td>\n",
       "      <td>...</td>\n",
       "      <td>9</td>\n",
       "      <td>8</td>\n",
       "      <td>3</td>\n",
       "      <td>0.725963</td>\n",
       "      <td>0.897617</td>\n",
       "      <td>0.871049</td>\n",
       "      <td>0.745932</td>\n",
       "      <td>0.758824</td>\n",
       "      <td>0.790772</td>\n",
       "      <td>spam</td>\n",
       "    </tr>\n",
       "    <tr>\n",
       "      <th>36706</th>\n",
       "      <td>40</td>\n",
       "      <td>3</td>\n",
       "      <td>25</td>\n",
       "      <td>6.666666</td>\n",
       "      <td>16</td>\n",
       "      <td>3.250000</td>\n",
       "      <td>3</td>\n",
       "      <td>35</td>\n",
       "      <td>31</td>\n",
       "      <td>19</td>\n",
       "      <td>...</td>\n",
       "      <td>7</td>\n",
       "      <td>6</td>\n",
       "      <td>7</td>\n",
       "      <td>0.674351</td>\n",
       "      <td>0.801139</td>\n",
       "      <td>0.697282</td>\n",
       "      <td>0.730563</td>\n",
       "      <td>0.731481</td>\n",
       "      <td>0.769238</td>\n",
       "      <td>spam</td>\n",
       "    </tr>\n",
       "  </tbody>\n",
       "</table>\n",
       "<p>18982 rows × 80 columns</p>\n",
       "</div>"
      ],
      "text/plain": [
       "       Querylength  domain_token_count  path_token_count  avgdomaintokenlen  \\\n",
       "35               0                   4                 4           6.250000   \n",
       "37              22                   4                10           6.250000   \n",
       "38              23                   4                10           6.250000   \n",
       "39              22                   4                10           6.250000   \n",
       "40              23                   4                10           6.250000   \n",
       "...            ...                 ...               ...                ...   \n",
       "36702           29                   4                14           5.750000   \n",
       "36703            0                   4                13           3.750000   \n",
       "36704           58                   3                27           6.666666   \n",
       "36705           35                   3                13           4.333334   \n",
       "36706           40                   3                25           6.666666   \n",
       "\n",
       "       longdomaintokenlen  avgpathtokenlen  tld  charcompvowels  charcompace  \\\n",
       "35                     17         3.750000    4               4            2   \n",
       "37                     17         3.500000    4              19           10   \n",
       "38                     17         3.500000    4              19           10   \n",
       "39                     17         3.500000    4              19           10   \n",
       "40                     17         3.500000    4              19           10   \n",
       "...                   ...              ...  ...             ...          ...   \n",
       "36702                  12         3.666667    4              20           24   \n",
       "36703                   8         8.461538    4              24           23   \n",
       "36704                  16         3.375000    3              41           34   \n",
       "36705                   9         3.600000    3              15           13   \n",
       "36706                  16         3.250000    3              35           31   \n",
       "\n",
       "       ldl_url  ...  SymbolCount_FileName  SymbolCount_Extension  \\\n",
       "35           0  ...                     1                      0   \n",
       "37           0  ...                     9                      8   \n",
       "38           0  ...                     9                      8   \n",
       "39           0  ...                     9                      8   \n",
       "40           0  ...                     9                      8   \n",
       "...        ...  ...                   ...                    ...   \n",
       "36702        3  ...                     3                      2   \n",
       "36703        0  ...                    16                     15   \n",
       "36704       20  ...                     8                      7   \n",
       "36705        7  ...                     9                      8   \n",
       "36706       19  ...                     7                      6   \n",
       "\n",
       "       SymbolCount_Afterpath  Entropy_URL  Entropy_Domain  \\\n",
       "35                        -1     0.726945        0.768811   \n",
       "37                         7     0.686486        0.768811   \n",
       "38                         7     0.687286        0.768811   \n",
       "39                         7     0.683476        0.768811   \n",
       "40                         7     0.687286        0.768811   \n",
       "...                      ...          ...             ...   \n",
       "36702                      7     0.690555        0.791265   \n",
       "36703                     -1     0.665492        0.820010   \n",
       "36704                      9     0.656807        0.801139   \n",
       "36705                      3     0.725963        0.897617   \n",
       "36706                      7     0.674351        0.801139   \n",
       "\n",
       "       Entropy_DirectoryName  Entropy_Filename  Entropy_Extension  \\\n",
       "35                  0.916667          1.000000           1.000000   \n",
       "37                  0.916667          0.748105           0.757206   \n",
       "38                  0.916667          0.747622           0.756298   \n",
       "39                  0.916667          0.742090           0.750292   \n",
       "40                  0.916667          0.747622           0.756298   \n",
       "...                      ...               ...                ...   \n",
       "36702               0.777498          0.690227           0.656684   \n",
       "36703               0.879588          0.674400           0.674671   \n",
       "36704               0.684777          0.713622           0.717187   \n",
       "36705               0.871049          0.745932           0.758824   \n",
       "36706               0.697282          0.730563           0.731481   \n",
       "\n",
       "       Entropy_Afterpath  URL_Type_obf_Type  \n",
       "35             -1.000000         Defacement  \n",
       "37              0.749167         Defacement  \n",
       "38              0.748268         Defacement  \n",
       "39              0.741506         Defacement  \n",
       "40              0.748268         Defacement  \n",
       "...                  ...                ...  \n",
       "36702           0.796205               spam  \n",
       "36703          -1.000000               spam  \n",
       "36704           0.705245               spam  \n",
       "36705           0.790772               spam  \n",
       "36706           0.769238               spam  \n",
       "\n",
       "[18982 rows x 80 columns]"
      ]
     },
     "execution_count": 15,
     "metadata": {},
     "output_type": "execute_result"
    }
   ],
   "source": [
    "dataset"
   ]
  },
  {
   "cell_type": "code",
   "execution_count": 3,
   "metadata": {},
   "outputs": [],
   "source": [
    "##delete Nan values and seperate x and y\n",
    "# y as result\n",
    "dataset = pd.DataFrame(dataset)\n",
    "dataset.dropna(inplace = True)\n",
    "x = dataset.iloc[:, 0:79].values\n",
    "y = dataset.iloc[:, 79].values\n",
    "y=pd.DataFrame(y)"
   ]
  },
  {
   "cell_type": "code",
   "execution_count": 18,
   "metadata": {},
   "outputs": [
    {
     "data": {
      "text/plain": [
       "array([[ 0.        ,  4.        ,  4.        , ...,  1.        ,\n",
       "         1.        , -1.        ],\n",
       "       [22.        ,  4.        , 10.        , ...,  0.74810535,\n",
       "         0.7572058 ,  0.74916678],\n",
       "       [23.        ,  4.        , 10.        , ...,  0.74762222,\n",
       "         0.75629805,  0.74826769],\n",
       "       ...,\n",
       "       [58.        ,  3.        , 27.        , ...,  0.7136219 ,\n",
       "         0.7171868 ,  0.70524456],\n",
       "       [35.        ,  3.        , 13.        , ...,  0.7459324 ,\n",
       "         0.75882363,  0.79077169],\n",
       "       [40.        ,  3.        , 25.        , ...,  0.73056291,\n",
       "         0.73148101,  0.76923786]])"
      ]
     },
     "execution_count": 18,
     "metadata": {},
     "output_type": "execute_result"
    }
   ],
   "source": [
    "x"
   ]
  },
  {
   "cell_type": "code",
   "execution_count": 4,
   "metadata": {},
   "outputs": [],
   "source": [
    "##StandardScaler\n",
    "from sklearn.preprocessing import StandardScaler\n",
    "sc = StandardScaler()\n",
    "x_train = sc.fit_transform(x)"
   ]
  },
  {
   "cell_type": "code",
   "execution_count": 5,
   "metadata": {},
   "outputs": [],
   "source": [
    "from sklearn.decomposition import PCA\n"
   ]
  },
  {
   "cell_type": "code",
   "execution_count": 14,
   "metadata": {},
   "outputs": [
    {
     "data": {
      "text/plain": [
       "array([[ 0.        ,  4.        ,  4.        , ...,  1.        ,\n",
       "         1.        , -1.        ],\n",
       "       [22.        ,  4.        , 10.        , ...,  0.74810535,\n",
       "         0.7572058 ,  0.74916678],\n",
       "       [23.        ,  4.        , 10.        , ...,  0.74762222,\n",
       "         0.75629805,  0.74826769],\n",
       "       ...,\n",
       "       [58.        ,  3.        , 27.        , ...,  0.7136219 ,\n",
       "         0.7171868 ,  0.70524456],\n",
       "       [35.        ,  3.        , 13.        , ...,  0.7459324 ,\n",
       "         0.75882363,  0.79077169],\n",
       "       [40.        ,  3.        , 25.        , ...,  0.73056291,\n",
       "         0.73148101,  0.76923786]])"
      ]
     },
     "execution_count": 14,
     "metadata": {},
     "output_type": "execute_result"
    }
   ],
   "source": [
    "x"
   ]
  },
  {
   "cell_type": "code",
   "execution_count": 8,
   "metadata": {},
   "outputs": [],
   "source": [
    "def PCA_component(n_components):\n",
    "    pca = PCA(n_components)\n",
    "    print(pca)\n",
    "    pca.fit(x)\n",
    "    X_transformed = pca.transform(x)\n",
    "    print(pca.explained_variance_ratio_)"
   ]
  },
  {
   "cell_type": "code",
   "execution_count": 9,
   "metadata": {},
   "outputs": [
    {
     "name": "stdout",
     "output_type": "stream",
     "text": [
      "PCA(n_components=5)\n",
      "[0.97695789 0.01056075 0.00337112 0.00278028 0.00189729]\n"
     ]
    }
   ],
   "source": [
    "PCA_component(5)"
   ]
  },
  {
   "cell_type": "code",
   "execution_count": 10,
   "metadata": {},
   "outputs": [
    {
     "name": "stdout",
     "output_type": "stream",
     "text": [
      "PCA(n_components=10)\n",
      "[9.76957891e-01 1.05607477e-02 3.37111698e-03 2.78028081e-03\n",
      " 1.89728945e-03 1.29695100e-03 8.23179094e-04 4.47562136e-04\n",
      " 3.77144010e-04 2.54385943e-04]\n"
     ]
    }
   ],
   "source": [
    "PCA_component(10)"
   ]
  },
  {
   "cell_type": "code",
   "execution_count": 11,
   "metadata": {},
   "outputs": [
    {
     "name": "stdout",
     "output_type": "stream",
     "text": [
      "PCA(n_components=20)\n",
      "[9.76957891e-01 1.05607477e-02 3.37111698e-03 2.78028081e-03\n",
      " 1.89728945e-03 1.29695100e-03 8.23179094e-04 4.47562136e-04\n",
      " 3.77144010e-04 2.54385944e-04 1.78443239e-04 1.49769006e-04\n",
      " 1.36706173e-04 1.04060316e-04 9.62778972e-05 9.01164984e-05\n",
      " 8.77699602e-05 6.26388012e-05 5.25452700e-05 4.40033897e-05]\n"
     ]
    }
   ],
   "source": [
    "PCA_component(20)"
   ]
  },
  {
   "cell_type": "code",
   "execution_count": 12,
   "metadata": {},
   "outputs": [
    {
     "name": "stdout",
     "output_type": "stream",
     "text": [
      "PCA(n_components=50)\n",
      "[9.76957891e-01 1.05607477e-02 3.37111698e-03 2.78028081e-03\n",
      " 1.89728945e-03 1.29695100e-03 8.23179094e-04 4.47562136e-04\n",
      " 3.77144010e-04 2.54385944e-04 1.78443239e-04 1.49769006e-04\n",
      " 1.36706173e-04 1.04060316e-04 9.62778972e-05 9.01164984e-05\n",
      " 8.77699602e-05 6.26388016e-05 5.25452704e-05 4.40033918e-05\n",
      " 3.58127372e-05 3.07698527e-05 2.48859884e-05 1.93511810e-05\n",
      " 1.57952064e-05 1.53201472e-05 1.41216305e-05 1.23135748e-05\n",
      " 1.00244302e-05 9.25891721e-06 5.96689197e-06 5.26026468e-06\n",
      " 4.49991978e-06 3.83181353e-06 3.61730200e-06 3.14973043e-06\n",
      " 2.66712910e-06 2.14258293e-06 2.08572142e-06 1.43098062e-06\n",
      " 1.29167416e-06 1.19154162e-06 1.08702029e-06 9.95027691e-07\n",
      " 6.85626061e-07 6.21434797e-07 5.51557549e-07 4.58109601e-07\n",
      " 4.26896719e-07 2.86510867e-07]\n"
     ]
    }
   ],
   "source": [
    "PCA_component(50)"
   ]
  },
  {
   "cell_type": "code",
   "execution_count": 13,
   "metadata": {},
   "outputs": [
    {
     "name": "stdout",
     "output_type": "stream",
     "text": [
      "PCA(n_components=79)\n",
      "[9.76957891e-01 1.05607477e-02 3.37111698e-03 2.78028081e-03\n",
      " 1.89728945e-03 1.29695100e-03 8.23179094e-04 4.47562136e-04\n",
      " 3.77144010e-04 2.54385944e-04 1.78443239e-04 1.49769006e-04\n",
      " 1.36706173e-04 1.04060316e-04 9.62778972e-05 9.01164984e-05\n",
      " 8.77699602e-05 6.26388016e-05 5.25452704e-05 4.40033918e-05\n",
      " 3.58127372e-05 3.07698527e-05 2.48859884e-05 1.93511810e-05\n",
      " 1.57952064e-05 1.53201472e-05 1.41216305e-05 1.23135748e-05\n",
      " 1.00244302e-05 9.25891721e-06 5.96689197e-06 5.26026468e-06\n",
      " 4.49991978e-06 3.83181353e-06 3.61730200e-06 3.14973043e-06\n",
      " 2.66712910e-06 2.14258293e-06 2.08572142e-06 1.43098062e-06\n",
      " 1.29167416e-06 1.19154162e-06 1.08702029e-06 9.95027691e-07\n",
      " 6.85626061e-07 6.21434797e-07 5.51557549e-07 4.58109601e-07\n",
      " 4.26896719e-07 2.86510867e-07 2.52296966e-07 2.12034979e-07\n",
      " 1.43872234e-07 1.26314709e-07 1.07235255e-07 8.86953328e-08\n",
      " 6.17604563e-08 4.37812637e-08 3.67509107e-08 2.92047783e-08\n",
      " 2.05009298e-08 1.67506685e-08 1.62097657e-08 1.54129574e-08\n",
      " 1.35018671e-08 9.02077036e-09 7.03964529e-09 5.78201574e-09\n",
      " 4.01701267e-09 3.67803098e-09 2.53997135e-09 2.13820110e-09\n",
      " 9.33661346e-10 5.17907134e-10 1.79094843e-10 8.53830688e-33\n",
      " 8.53830688e-33 8.53830688e-33 8.53830688e-33]\n"
     ]
    }
   ],
   "source": [
    "PCA_component(79)"
   ]
  },
  {
   "cell_type": "code",
   "execution_count": null,
   "metadata": {},
   "outputs": [],
   "source": []
  },
  {
   "cell_type": "code",
   "execution_count": null,
   "metadata": {},
   "outputs": [],
   "source": []
  },
  {
   "cell_type": "code",
   "execution_count": 21,
   "metadata": {},
   "outputs": [
    {
     "name": "stdout",
     "output_type": "stream",
     "text": [
      "PCA(n_components=5)\n"
     ]
    },
    {
     "data": {
      "text/plain": [
       "array([[-1.36574520e+02, -3.85016355e+01,  2.45101061e+00,\n",
       "        -4.96620285e+00, -1.19464728e+01],\n",
       "       [-2.42622820e+01, -4.05684557e+00, -2.03211527e+01,\n",
       "         3.79380150e-01, -2.08887125e+01],\n",
       "       [-2.21289125e+01, -3.23671219e+00, -2.10144300e+01,\n",
       "        -9.23814369e-02, -1.95581004e+01],\n",
       "       ...,\n",
       "       [ 2.62027644e+02,  1.52865234e+02, -1.85332059e+01,\n",
       "        -6.64664237e+01,  7.20219431e+00],\n",
       "       [ 2.94149862e+01,  1.03297939e+01, -3.22669941e+01,\n",
       "        -4.86681097e+00,  2.11011131e+01],\n",
       "       [ 2.18228277e+02,  1.40768416e+02, -3.61123967e+01,\n",
       "        -4.19599594e+01,  6.67050737e+00]])"
      ]
     },
     "execution_count": 21,
     "metadata": {},
     "output_type": "execute_result"
    }
   ],
   "source": [
    "pca = PCA(5)\n",
    "print(pca)\n",
    "pca.fit(x)\n",
    "X_transformed = pca.transform(x)\n",
    "X_transformed"
   ]
  },
  {
   "cell_type": "code",
   "execution_count": 22,
   "metadata": {},
   "outputs": [
    {
     "data": {
      "text/plain": [
       "(18982, 5)"
      ]
     },
     "execution_count": 22,
     "metadata": {},
     "output_type": "execute_result"
    }
   ],
   "source": [
    "X_transformed.shape"
   ]
  },
  {
   "cell_type": "code",
   "execution_count": 23,
   "metadata": {},
   "outputs": [
    {
     "data": {
      "text/plain": [
       "array([[ 0.        ,  4.        ,  4.        , ...,  1.        ,\n",
       "         1.        , -1.        ],\n",
       "       [22.        ,  4.        , 10.        , ...,  0.74810535,\n",
       "         0.7572058 ,  0.74916678],\n",
       "       [23.        ,  4.        , 10.        , ...,  0.74762222,\n",
       "         0.75629805,  0.74826769],\n",
       "       ...,\n",
       "       [58.        ,  3.        , 27.        , ...,  0.7136219 ,\n",
       "         0.7171868 ,  0.70524456],\n",
       "       [35.        ,  3.        , 13.        , ...,  0.7459324 ,\n",
       "         0.75882363,  0.79077169],\n",
       "       [40.        ,  3.        , 25.        , ...,  0.73056291,\n",
       "         0.73148101,  0.76923786]])"
      ]
     },
     "execution_count": 23,
     "metadata": {},
     "output_type": "execute_result"
    }
   ],
   "source": [
    "x"
   ]
  },
  {
   "cell_type": "code",
   "execution_count": null,
   "metadata": {},
   "outputs": [],
   "source": []
  }
 ],
 "metadata": {
  "kernelspec": {
   "display_name": "Python 3",
   "language": "python",
   "name": "python3"
  },
  "language_info": {
   "codemirror_mode": {
    "name": "ipython",
    "version": 3
   },
   "file_extension": ".py",
   "mimetype": "text/x-python",
   "name": "python",
   "nbconvert_exporter": "python",
   "pygments_lexer": "ipython3",
   "version": "3.8.3"
  }
 },
 "nbformat": 4,
 "nbformat_minor": 4
}
