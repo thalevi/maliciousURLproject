{
 "cells": [
  {
   "cell_type": "code",
   "execution_count": 35,
   "metadata": {},
   "outputs": [],
   "source": [
    "import pandas as pd\n",
    "import seaborn as sns\n",
    "import numpy as np\n",
    "import matplotlib.pyplot as pyplot\n",
    "from sklearn.model_selection import train_test_split\n",
    "from sklearn.ensemble import RandomForestRegressor\n",
    "from sklearn.metrics import accuracy_score\n",
    "import operator"
   ]
  },
  {
   "cell_type": "code",
   "execution_count": 36,
   "metadata": {},
   "outputs": [
    {
     "data": {
      "text/plain": [
       "(36707, 80)"
      ]
     },
     "execution_count": 36,
     "metadata": {},
     "output_type": "execute_result"
    }
   ],
   "source": [
    "##import the dataset\n",
    "dataset = pd.read_csv('All.csv')\n",
    "dataset.shape"
   ]
  },
  {
   "cell_type": "code",
   "execution_count": 37,
   "metadata": {},
   "outputs": [],
   "source": [
    "##change string value to integer according to their type\n",
    "dataset.loc[dataset[\"URL_Type_obf_Type\"] =='Defacement', \"URL_Type_obf_Type\"] = 1\n",
    "dataset.loc[dataset[\"URL_Type_obf_Type\"] =='benign', \"URL_Type_obf_Type\"] = 0\n",
    "dataset.loc[dataset[\"URL_Type_obf_Type\"] =='phishing', \"URL_Type_obf_Type\"] = 2\n",
    "dataset.loc[dataset[\"URL_Type_obf_Type\"] =='malware', \"URL_Type_obf_Type\"] = 3\n",
    "dataset.loc[dataset[\"URL_Type_obf_Type\"] =='spam', \"URL_Type_obf_Type\"] = 4\n",
    "dataset = pd.DataFrame(dataset)\n",
    "##delete nan value\n",
    "dataset.dropna(inplace = True)"
   ]
  },
  {
   "cell_type": "code",
   "execution_count": 38,
   "metadata": {},
   "outputs": [],
   "source": [
    "x = dataset.iloc[:, 0:79].values\n",
    "y = dataset.iloc[:, 79].values\n",
    "y=y.astype('int')"
   ]
  },
  {
   "cell_type": "code",
   "execution_count": 39,
   "metadata": {},
   "outputs": [],
   "source": [
    "model = RandomForestRegressor()"
   ]
  },
  {
   "cell_type": "code",
   "execution_count": 40,
   "metadata": {},
   "outputs": [
    {
     "data": {
      "text/plain": [
       "RandomForestRegressor(bootstrap=True, ccp_alpha=0.0, criterion='mse',\n",
       "                      max_depth=None, max_features='auto', max_leaf_nodes=None,\n",
       "                      max_samples=None, min_impurity_decrease=0.0,\n",
       "                      min_impurity_split=None, min_samples_leaf=1,\n",
       "                      min_samples_split=2, min_weight_fraction_leaf=0.0,\n",
       "                      n_estimators=100, n_jobs=None, oob_score=False,\n",
       "                      random_state=None, verbose=0, warm_start=False)"
      ]
     },
     "execution_count": 40,
     "metadata": {},
     "output_type": "execute_result"
    }
   ],
   "source": [
    "model.fit(x, y)"
   ]
  },
  {
   "cell_type": "code",
   "execution_count": 41,
   "metadata": {},
   "outputs": [],
   "source": [
    "X_train, X_test, y_train, y_test = train_test_split(x, y, test_size=0.2, random_state=0)\n",
    "\n",
    "regressor = RandomForestRegressor(n_estimators=30, random_state=0)\n",
    "regressor.fit(X_train, y_train)\n",
    "y_pred = regressor.predict(X_test)\n",
    "y_pred =np.round(y_pred,0)\n",
    "score = accuracy_score(y_test, y_pred)"
   ]
  },
  {
   "cell_type": "code",
   "execution_count": 42,
   "metadata": {},
   "outputs": [
    {
     "name": "stdout",
     "output_type": "stream",
     "text": [
      "0.9357387411114038\n"
     ]
    }
   ],
   "source": [
    "print(score)"
   ]
  },
  {
   "cell_type": "code",
   "execution_count": null,
   "metadata": {},
   "outputs": [],
   "source": []
  },
  {
   "cell_type": "code",
   "execution_count": 9,
   "metadata": {},
   "outputs": [
    {
     "data": {
      "text/plain": [
       "array([7.66074271e-04, 1.22085430e-01, 5.09477470e-03, 1.45081683e-02,\n",
       "       1.74736118e-02, 2.08043000e-02, 1.02386168e-01, 3.42092614e-03,\n",
       "       2.49388147e-03, 2.48177591e-03, 5.65717834e-04, 1.82838073e-03,\n",
       "       3.73120386e-04, 1.71612092e-03, 2.44539667e-04, 5.78850392e-06,\n",
       "       2.25760225e-04, 5.67786971e-05, 9.11550731e-05, 2.05480311e-02,\n",
       "       1.44891829e-02, 3.38220418e-03, 3.43495485e-03, 2.52224851e-02,\n",
       "       1.16006380e-02, 7.01490900e-04, 4.33132571e-03, 3.85972866e-03,\n",
       "       1.55153324e-02, 8.72057555e-03, 2.24919802e-03, 3.38290750e-03,\n",
       "       1.54711072e-04, 4.89879794e-06, 2.11701272e-03, 0.00000000e+00,\n",
       "       1.06017182e-02, 2.80703114e-03, 1.61008237e-03, 1.00723636e-03,\n",
       "       1.60153275e-03, 3.00241874e-03, 9.68031759e-03, 4.59232054e-04,\n",
       "       1.02256716e-02, 2.97147134e-02, 2.58802294e-02, 6.59461809e-03,\n",
       "       9.74600161e-03, 6.01094709e-04, 3.40359437e-02, 3.57697552e-03,\n",
       "       3.30995860e-03, 5.32454971e-03, 2.69007654e-03, 1.96456390e-04,\n",
       "       2.03535636e-03, 1.49026924e-03, 2.01236689e-03, 6.60428109e-02,\n",
       "       1.17279082e-03, 6.17878354e-03, 2.82296562e-03, 1.98141001e-03,\n",
       "       1.50094173e-01, 2.45834000e-03, 3.87035835e-03, 3.72242484e-03,\n",
       "       1.06506469e-01, 2.05244912e-03, 3.00797939e-03, 1.31493049e-03,\n",
       "       5.20899615e-04, 4.71982591e-03, 3.07265756e-02, 1.68999254e-02,\n",
       "       5.73837768e-03, 3.61251330e-03, 2.01499667e-03])"
      ]
     },
     "execution_count": 9,
     "metadata": {},
     "output_type": "execute_result"
    }
   ],
   "source": [
    "importance = model.feature_importances_\n",
    "importance"
   ]
  },
  {
   "cell_type": "code",
   "execution_count": 10,
   "metadata": {},
   "outputs": [
    {
     "name": "stdout",
     "output_type": "stream",
     "text": [
      "Feature: 0, Score: 0.00077\n",
      "Feature: 1, Score: 0.12209\n",
      "Feature: 2, Score: 0.00509\n",
      "Feature: 3, Score: 0.01451\n",
      "Feature: 4, Score: 0.01747\n",
      "Feature: 5, Score: 0.02080\n",
      "Feature: 6, Score: 0.10239\n",
      "Feature: 7, Score: 0.00342\n",
      "Feature: 8, Score: 0.00249\n",
      "Feature: 9, Score: 0.00248\n",
      "Feature: 10, Score: 0.00057\n",
      "Feature: 11, Score: 0.00183\n",
      "Feature: 12, Score: 0.00037\n",
      "Feature: 13, Score: 0.00172\n",
      "Feature: 14, Score: 0.00024\n",
      "Feature: 15, Score: 0.00001\n",
      "Feature: 16, Score: 0.00023\n",
      "Feature: 17, Score: 0.00006\n",
      "Feature: 18, Score: 0.00009\n",
      "Feature: 19, Score: 0.02055\n",
      "Feature: 20, Score: 0.01449\n",
      "Feature: 21, Score: 0.00338\n",
      "Feature: 22, Score: 0.00343\n",
      "Feature: 23, Score: 0.02522\n",
      "Feature: 24, Score: 0.01160\n",
      "Feature: 25, Score: 0.00070\n",
      "Feature: 26, Score: 0.00433\n",
      "Feature: 27, Score: 0.00386\n",
      "Feature: 28, Score: 0.01552\n",
      "Feature: 29, Score: 0.00872\n",
      "Feature: 30, Score: 0.00225\n",
      "Feature: 31, Score: 0.00338\n",
      "Feature: 32, Score: 0.00015\n",
      "Feature: 33, Score: 0.00000\n",
      "Feature: 34, Score: 0.00212\n",
      "Feature: 35, Score: 0.00000\n",
      "Feature: 36, Score: 0.01060\n",
      "Feature: 37, Score: 0.00281\n",
      "Feature: 38, Score: 0.00161\n",
      "Feature: 39, Score: 0.00101\n",
      "Feature: 40, Score: 0.00160\n",
      "Feature: 41, Score: 0.00300\n",
      "Feature: 42, Score: 0.00968\n",
      "Feature: 43, Score: 0.00046\n",
      "Feature: 44, Score: 0.01023\n",
      "Feature: 45, Score: 0.02971\n",
      "Feature: 46, Score: 0.02588\n",
      "Feature: 47, Score: 0.00659\n",
      "Feature: 48, Score: 0.00975\n",
      "Feature: 49, Score: 0.00060\n",
      "Feature: 50, Score: 0.03404\n",
      "Feature: 51, Score: 0.00358\n",
      "Feature: 52, Score: 0.00331\n",
      "Feature: 53, Score: 0.00532\n",
      "Feature: 54, Score: 0.00269\n",
      "Feature: 55, Score: 0.00020\n",
      "Feature: 56, Score: 0.00204\n",
      "Feature: 57, Score: 0.00149\n",
      "Feature: 58, Score: 0.00201\n",
      "Feature: 59, Score: 0.06604\n",
      "Feature: 60, Score: 0.00117\n",
      "Feature: 61, Score: 0.00618\n",
      "Feature: 62, Score: 0.00282\n",
      "Feature: 63, Score: 0.00198\n",
      "Feature: 64, Score: 0.15009\n",
      "Feature: 65, Score: 0.00246\n",
      "Feature: 66, Score: 0.00387\n",
      "Feature: 67, Score: 0.00372\n",
      "Feature: 68, Score: 0.10651\n",
      "Feature: 69, Score: 0.00205\n",
      "Feature: 70, Score: 0.00301\n",
      "Feature: 71, Score: 0.00131\n",
      "Feature: 72, Score: 0.00052\n",
      "Feature: 73, Score: 0.00472\n",
      "Feature: 74, Score: 0.03073\n",
      "Feature: 75, Score: 0.01690\n",
      "Feature: 76, Score: 0.00574\n",
      "Feature: 77, Score: 0.00361\n",
      "Feature: 78, Score: 0.00201\n"
     ]
    },
    {
     "data": {
      "image/png": "[encoded data removed]",
      "text/plain": [
       "<Figure size 576x396 with 1 Axes>"
      ]
     },
     "metadata": {},
     "output_type": "display_data"
    }
   ],
   "source": [
    "for i,v in enumerate(importance):\n",
    "\tprint('Feature: %0d, Score: %.5f' % (i,v))\n",
    "# plot feature importance\n",
    "pyplot.bar([x for x in range(len(importance))], importance)\n",
    "pyplot.show()"
   ]
  },
  {
   "cell_type": "code",
   "execution_count": 11,
   "metadata": {},
   "outputs": [],
   "source": [
    "sort_importance = np.sort(importance)"
   ]
  },
  {
   "cell_type": "code",
   "execution_count": null,
   "metadata": {},
   "outputs": [],
   "source": []
  },
  {
   "cell_type": "code",
   "execution_count": 12,
   "metadata": {},
   "outputs": [
    {
     "name": "stdout",
     "output_type": "stream",
     "text": [
      "Feature: 0, Score: 0.00000\n",
      "Feature: 1, Score: 0.00000\n",
      "Feature: 2, Score: 0.00001\n",
      "Feature: 3, Score: 0.00006\n",
      "Feature: 4, Score: 0.00009\n",
      "Feature: 5, Score: 0.00015\n",
      "Feature: 6, Score: 0.00020\n",
      "Feature: 7, Score: 0.00023\n",
      "Feature: 8, Score: 0.00024\n",
      "Feature: 9, Score: 0.00037\n",
      "Feature: 10, Score: 0.00046\n",
      "Feature: 11, Score: 0.00052\n",
      "Feature: 12, Score: 0.00057\n",
      "Feature: 13, Score: 0.00060\n",
      "Feature: 14, Score: 0.00070\n",
      "Feature: 15, Score: 0.00077\n",
      "Feature: 16, Score: 0.00101\n",
      "Feature: 17, Score: 0.00117\n",
      "Feature: 18, Score: 0.00131\n",
      "Feature: 19, Score: 0.00149\n",
      "Feature: 20, Score: 0.00160\n",
      "Feature: 21, Score: 0.00161\n",
      "Feature: 22, Score: 0.00172\n",
      "Feature: 23, Score: 0.00183\n",
      "Feature: 24, Score: 0.00198\n",
      "Feature: 25, Score: 0.00201\n",
      "Feature: 26, Score: 0.00201\n",
      "Feature: 27, Score: 0.00204\n",
      "Feature: 28, Score: 0.00205\n",
      "Feature: 29, Score: 0.00212\n",
      "Feature: 30, Score: 0.00225\n",
      "Feature: 31, Score: 0.00246\n",
      "Feature: 32, Score: 0.00248\n",
      "Feature: 33, Score: 0.00249\n",
      "Feature: 34, Score: 0.00269\n",
      "Feature: 35, Score: 0.00281\n",
      "Feature: 36, Score: 0.00282\n",
      "Feature: 37, Score: 0.00300\n",
      "Feature: 38, Score: 0.00301\n",
      "Feature: 39, Score: 0.00331\n",
      "Feature: 40, Score: 0.00338\n",
      "Feature: 41, Score: 0.00338\n",
      "Feature: 42, Score: 0.00342\n",
      "Feature: 43, Score: 0.00343\n",
      "Feature: 44, Score: 0.00358\n",
      "Feature: 45, Score: 0.00361\n",
      "Feature: 46, Score: 0.00372\n",
      "Feature: 47, Score: 0.00386\n",
      "Feature: 48, Score: 0.00387\n",
      "Feature: 49, Score: 0.00433\n",
      "Feature: 50, Score: 0.00472\n",
      "Feature: 51, Score: 0.00509\n",
      "Feature: 52, Score: 0.00532\n",
      "Feature: 53, Score: 0.00574\n",
      "Feature: 54, Score: 0.00618\n",
      "Feature: 55, Score: 0.00659\n",
      "Feature: 56, Score: 0.00872\n",
      "Feature: 57, Score: 0.00968\n",
      "Feature: 58, Score: 0.00975\n",
      "Feature: 59, Score: 0.01023\n",
      "Feature: 60, Score: 0.01060\n",
      "Feature: 61, Score: 0.01160\n",
      "Feature: 62, Score: 0.01449\n",
      "Feature: 63, Score: 0.01451\n",
      "Feature: 64, Score: 0.01552\n",
      "Feature: 65, Score: 0.01690\n",
      "Feature: 66, Score: 0.01747\n",
      "Feature: 67, Score: 0.02055\n",
      "Feature: 68, Score: 0.02080\n",
      "Feature: 69, Score: 0.02522\n",
      "Feature: 70, Score: 0.02588\n",
      "Feature: 71, Score: 0.02971\n",
      "Feature: 72, Score: 0.03073\n",
      "Feature: 73, Score: 0.03404\n",
      "Feature: 74, Score: 0.06604\n",
      "Feature: 75, Score: 0.10239\n",
      "Feature: 76, Score: 0.10651\n",
      "Feature: 77, Score: 0.12209\n",
      "Feature: 78, Score: 0.15009\n"
     ]
    },
    {
     "data": {
      "image/png": "[encoded data removed]",
      "text/plain": [
       "<Figure size 576x396 with 1 Axes>"
      ]
     },
     "metadata": {},
     "output_type": "display_data"
    }
   ],
   "source": [
    "for i,v in enumerate(sort_importance):\n",
    "\tprint('Feature: %0d, Score: %.5f' % (i,v))\n",
    "# plot feature importance\n",
    "pyplot.bar([x for x in range(len(importance))], sort_importance)\n",
    "pyplot.show()"
   ]
  },
  {
   "cell_type": "code",
   "execution_count": 13,
   "metadata": {},
   "outputs": [],
   "source": [
    "##convert numpy to dict\n",
    "d = dict(enumerate(importance, 0)) "
   ]
  },
  {
   "cell_type": "code",
   "execution_count": 14,
   "metadata": {},
   "outputs": [
    {
     "data": {
      "text/plain": [
       "[(35, 0.0),\n",
       " (33, 4.898797939533372e-06),\n",
       " (15, 5.788503915265059e-06),\n",
       " (17, 5.677869706386699e-05),\n",
       " (18, 9.115507313201693e-05),\n",
       " (32, 0.0001547110719179565),\n",
       " (55, 0.00019645639008969144),\n",
       " (16, 0.0002257602246952761),\n",
       " (14, 0.00024453966738746235),\n",
       " (12, 0.0003731203863010108),\n",
       " (43, 0.00045923205415904363),\n",
       " (72, 0.0005208996149824525),\n",
       " (10, 0.0005657178339885741),\n",
       " (49, 0.0006010947093215441),\n",
       " (25, 0.0007014908995363645),\n",
       " (0, 0.0007660742705149341),\n",
       " (39, 0.0010072363627468349),\n",
       " (60, 0.0011727908175297613),\n",
       " (71, 0.0013149304938044274),\n",
       " (57, 0.0014902692408402748),\n",
       " (40, 0.0016015327500810566),\n",
       " (38, 0.0016100823677046442),\n",
       " (13, 0.001716120919702628),\n",
       " (11, 0.0018283807259334972),\n",
       " (63, 0.0019814100098260647),\n",
       " (58, 0.002012366886873081),\n",
       " (78, 0.002014996671512709),\n",
       " (56, 0.0020353563555568117),\n",
       " (69, 0.0020524491195725086),\n",
       " (34, 0.0021170127182507954),\n",
       " (30, 0.002249198018229473),\n",
       " (65, 0.002458340001486088),\n",
       " (9, 0.002481775908172998),\n",
       " (8, 0.0024938814691547488),\n",
       " (54, 0.0026900765386292103),\n",
       " (37, 0.0028070311357018744),\n",
       " (62, 0.0028229656194134565),\n",
       " (41, 0.0030024187374969647),\n",
       " (70, 0.00300797939058282),\n",
       " (52, 0.0033099585981243144),\n",
       " (21, 0.003382204181191672),\n",
       " (31, 0.0033829074960483293),\n",
       " (7, 0.0034209261386088825),\n",
       " (22, 0.003434954846498335),\n",
       " (51, 0.0035769755202182223),\n",
       " (77, 0.003612513301885113),\n",
       " (67, 0.0037224248379382112),\n",
       " (27, 0.0038597286648122085),\n",
       " (66, 0.003870358346074732),\n",
       " (26, 0.004331325710619465),\n",
       " (73, 0.004719825910987751),\n",
       " (2, 0.005094774700345026),\n",
       " (53, 0.0053245497084793555),\n",
       " (76, 0.005738377684700789),\n",
       " (61, 0.006178783536613988),\n",
       " (47, 0.006594618094009409),\n",
       " (29, 0.008720575548559947),\n",
       " (42, 0.009680317587799027),\n",
       " (48, 0.00974600160785781),\n",
       " (44, 0.01022567164751653),\n",
       " (36, 0.01060171818440268),\n",
       " (24, 0.011600638015383968),\n",
       " (20, 0.014489182892979678),\n",
       " (3, 0.014508168294168117),\n",
       " (28, 0.015515332385160714),\n",
       " (75, 0.016899925403808896),\n",
       " (4, 0.017473611832005895),\n",
       " (19, 0.020548031059901092),\n",
       " (5, 0.020804299993417628),\n",
       " (23, 0.025222485090559302),\n",
       " (46, 0.025880229433124784),\n",
       " (45, 0.029714713360775854),\n",
       " (74, 0.030726575595444994),\n",
       " (50, 0.03403594366317844),\n",
       " (59, 0.06604281085277754),\n",
       " (6, 0.10238616828422123),\n",
       " (68, 0.10650646875561319),\n",
       " (1, 0.12208542967923039),\n",
       " (64, 0.15009417310120873)]"
      ]
     },
     "execution_count": 14,
     "metadata": {},
     "output_type": "execute_result"
    }
   ],
   "source": [
    "##sorted by value\n",
    "sorted_d = sorted(d.items(), key=operator.itemgetter(1))\n",
    "sorted_d "
   ]
  },
  {
   "cell_type": "code",
   "execution_count": 15,
   "metadata": {},
   "outputs": [
    {
     "name": "stdout",
     "output_type": "stream",
     "text": [
      "(18982, 80)\n"
     ]
    }
   ],
   "source": [
    "dataset\n",
    "print(dataset.shape)"
   ]
  },
  {
   "cell_type": "code",
   "execution_count": 16,
   "metadata": {},
   "outputs": [
    {
     "name": "stdout",
     "output_type": "stream",
     "text": [
      "(18982, 75)\n"
     ]
    }
   ],
   "source": [
    "dataset.drop([dataset.columns[35],dataset.columns[15],dataset.columns[33],dataset.columns[17],dataset.columns[18]], axis=1,inplace=True)\n",
    "\n",
    "print(dataset.shape)"
   ]
  },
  {
   "cell_type": "code",
   "execution_count": null,
   "metadata": {},
   "outputs": [],
   "source": []
  },
  {
   "cell_type": "code",
   "execution_count": 17,
   "metadata": {},
   "outputs": [],
   "source": [
    "x = dataset.iloc[:, 0:74].values\n",
    "y = dataset.iloc[:, 74].values\n",
    "y=y.astype('int')"
   ]
  },
  {
   "cell_type": "code",
   "execution_count": 18,
   "metadata": {},
   "outputs": [],
   "source": [
    "X_train, X_test, y_train, y_test = train_test_split(x, y, test_size=0.2, random_state=0)\n",
    "\n",
    "regressor = RandomForestRegressor(n_estimators=30, random_state=0)\n",
    "regressor.fit(X_train, y_train)\n",
    "y_pred = regressor.predict(X_test)\n",
    "y_pred =np.round(y_pred,0)\n",
    "score1 = accuracy_score(y_test, y_pred)"
   ]
  },
  {
   "cell_type": "code",
   "execution_count": 19,
   "metadata": {},
   "outputs": [
    {
     "name": "stdout",
     "output_type": "stream",
     "text": [
      "0.9367922043718725\n"
     ]
    }
   ],
   "source": [
    "print(score1)"
   ]
  },
  {
   "cell_type": "code",
   "execution_count": 20,
   "metadata": {},
   "outputs": [
    {
     "data": {
      "image/png": "[encoded data removed]",
      "text/plain": [
       "<Figure size 576x396 with 1 Axes>"
      ]
     },
     "metadata": {},
     "output_type": "display_data"
    }
   ],
   "source": [
    "a=['score_original', 'score_delete_five_features']\n",
    "b=[score,score1]\n",
    "pyplot.ylim(0.92, 0.94)\n",
    "pyplot.bar(a,b)\n",
    "pyplot.show()"
   ]
  },
  {
   "cell_type": "markdown",
   "metadata": {},
   "source": [
    "conclusion: with deleting 5 least related features, the score gets higher."
   ]
  },
  {
   "cell_type": "code",
   "execution_count": null,
   "metadata": {},
   "outputs": [],
   "source": []
  },
  {
   "cell_type": "code",
   "execution_count": 21,
   "metadata": {},
   "outputs": [
    {
     "data": {
      "text/plain": [
       "(18982, 75)"
      ]
     },
     "execution_count": 21,
     "metadata": {},
     "output_type": "execute_result"
    }
   ],
   "source": [
    "dataset.shape"
   ]
  },
  {
   "cell_type": "code",
   "execution_count": 22,
   "metadata": {},
   "outputs": [
    {
     "data": {
      "text/plain": [
       "RandomForestRegressor(bootstrap=True, ccp_alpha=0.0, criterion='mse',\n",
       "                      max_depth=None, max_features='auto', max_leaf_nodes=None,\n",
       "                      max_samples=None, min_impurity_decrease=0.0,\n",
       "                      min_impurity_split=None, min_samples_leaf=1,\n",
       "                      min_samples_split=2, min_weight_fraction_leaf=0.0,\n",
       "                      n_estimators=100, n_jobs=None, oob_score=False,\n",
       "                      random_state=None, verbose=0, warm_start=False)"
      ]
     },
     "execution_count": 22,
     "metadata": {},
     "output_type": "execute_result"
    }
   ],
   "source": [
    "model.fit(x, y)\n"
   ]
  },
  {
   "cell_type": "code",
   "execution_count": 51,
   "metadata": {},
   "outputs": [
    {
     "name": "stdout",
     "output_type": "stream",
     "text": [
      "29\n"
     ]
    }
   ],
   "source": [
    "importance = model.feature_importances_\n",
    "d = dict(enumerate(importance, 0)) \n",
    "sorted_d = sorted(d.items(), key=operator.itemgetter(1))\n",
    "sorted_d \n",
    "sorted_indices = np.argsort(importance)[::-1]\n",
    "print(sorted_indices[73])\n"
   ]
  },
  {
   "cell_type": "code",
   "execution_count": 24,
   "metadata": {},
   "outputs": [
    {
     "name": "stdout",
     "output_type": "stream",
     "text": [
      "(18982, 70)\n"
     ]
    }
   ],
   "source": [
    "dataset.drop([dataset.columns[29],dataset.columns[50],dataset.columns[15],dataset.columns[14],dataset.columns[12]], axis=1,inplace=True)\n",
    "\n",
    "print(dataset.shape)"
   ]
  },
  {
   "cell_type": "code",
   "execution_count": 25,
   "metadata": {},
   "outputs": [],
   "source": [
    "x = dataset.iloc[:, 0:69].values\n",
    "y = dataset.iloc[:, 69].values\n",
    "y=y.astype('int')"
   ]
  },
  {
   "cell_type": "code",
   "execution_count": 26,
   "metadata": {},
   "outputs": [
    {
     "name": "stdout",
     "output_type": "stream",
     "text": [
      "0.9336318145904662\n"
     ]
    }
   ],
   "source": [
    "X_train, X_test, y_train, y_test = train_test_split(x, y, test_size=0.2, random_state=0)\n",
    "\n",
    "regressor = RandomForestRegressor(n_estimators=30, random_state=0)\n",
    "regressor.fit(X_train, y_train)\n",
    "y_pred = regressor.predict(X_test)\n",
    "y_pred =np.round(y_pred,0)\n",
    "score2 = accuracy_score(y_test, y_pred)\n",
    "print(score2)"
   ]
  },
  {
   "cell_type": "code",
   "execution_count": 27,
   "metadata": {},
   "outputs": [
    {
     "data": {
      "image/png": "[encoded data removed]",
      "text/plain": [
       "<Figure size 576x396 with 1 Axes>"
      ]
     },
     "metadata": {},
     "output_type": "display_data"
    }
   ],
   "source": [
    "a=['score_original', 'score_delete_five_features','score_delete_ten_features']\n",
    "b=[score,score1,score2]\n",
    "pyplot.ylim(0.92, 0.94)\n",
    "pyplot.bar(a,b)\n",
    "pyplot.show()"
   ]
  },
  {
   "cell_type": "markdown",
   "metadata": {},
   "source": [
    "conclusion: with deleting 5 least related features, the score gets higher.\n",
    "with deleting 10 least related features, the score gets lower."
   ]
  },
  {
   "cell_type": "code",
   "execution_count": 44,
   "metadata": {},
   "outputs": [
    {
     "data": {
      "text/plain": [
       "{0: 0.0006143233933578441,\n",
       " 1: 0.07953622241535876,\n",
       " 2: 0.0047994618352169205,\n",
       " 3: 0.013927545869859387,\n",
       " 4: 0.018669734221647135,\n",
       " 5: 0.01691846923762505,\n",
       " 6: 0.13437408698912032,\n",
       " 7: 0.0031211568378043232,\n",
       " 8: 0.0028133824259413904,\n",
       " 9: 0.0029276454459113976,\n",
       " 10: 0.000610601558638127,\n",
       " 11: 0.001883189844330324,\n",
       " 12: 0.00046160820635092616,\n",
       " 13: 0.0017959237862245504,\n",
       " 14: 0.00035978411826148864,\n",
       " 15: 0.0003561021265976686,\n",
       " 16: 0.02073240322788049,\n",
       " 17: 0.01422882839126296,\n",
       " 18: 0.0033710869277946247,\n",
       " 19: 0.003435273676373,\n",
       " 20: 0.024980888565228086,\n",
       " 21: 0.011075931567019755,\n",
       " 22: 0.0007518249110666009,\n",
       " 23: 0.0036928015707640544,\n",
       " 24: 0.0037282549807851214,\n",
       " 25: 0.01936679735284592,\n",
       " 26: 0.008028966877363286,\n",
       " 27: 0.0023449871009823906,\n",
       " 28: 0.003376395645601263,\n",
       " 29: 0.00013419480399902287,\n",
       " 30: 0.0021293074767508705,\n",
       " 31: 0.009941520989290296,\n",
       " 32: 0.002526895970058206,\n",
       " 33: 0.0017205176967578875,\n",
       " 34: 0.0009281471377453194,\n",
       " 35: 0.0014757509662876754,\n",
       " 36: 0.00331383555868291,\n",
       " 37: 0.010092312958832592,\n",
       " 38: 0.00048331017030364795,\n",
       " 39: 0.010330535699748336,\n",
       " 40: 0.02821862727194559,\n",
       " 41: 0.030665838888200306,\n",
       " 42: 0.005826242054608698,\n",
       " 43: 0.009577941443981303,\n",
       " 44: 0.0005344583150329167,\n",
       " 45: 0.0339291208629045,\n",
       " 46: 0.003854787264239131,\n",
       " 47: 0.0029132725003134462,\n",
       " 48: 0.006025177997501205,\n",
       " 49: 0.002215945413639132,\n",
       " 50: 0.00021227277890033188,\n",
       " 51: 0.001563120205600994,\n",
       " 52: 0.0016281437205600269,\n",
       " 53: 0.0019250377259738974,\n",
       " 54: 0.06732712536365593,\n",
       " 55: 0.0020751776226846964,\n",
       " 56: 0.005600393843966859,\n",
       " 57: 0.0024749694359081378,\n",
       " 58: 0.0019879728008409064,\n",
       " 59: 0.14973863467656964,\n",
       " 60: 0.0022122876878959206,\n",
       " 61: 0.003895385501391765,\n",
       " 62: 0.003820095172895999,\n",
       " 63: 0.11562449863248057,\n",
       " 64: 0.0020175061768710847,\n",
       " 65: 0.0027505622068794556,\n",
       " 66: 0.0021094917639741264,\n",
       " 67: 0.0006540346202416702,\n",
       " 68: 0.004861160575440005,\n",
       " 69: 0.029954763167031807,\n",
       " 70: 0.017663749006634817,\n",
       " 71: 0.005536326151926083,\n",
       " 72: 0.0035091026091127863,\n",
       " 73: 0.001736768004526324}"
      ]
     },
     "execution_count": 44,
     "metadata": {},
     "output_type": "execute_result"
    }
   ],
   "source": [
    "d"
   ]
  },
  {
   "cell_type": "code",
   "execution_count": null,
   "metadata": {},
   "outputs": [],
   "source": []
  }
 ],
 "metadata": {
  "kernelspec": {
   "display_name": "Python 3",
   "language": "python",
   "name": "python3"
  },
  "language_info": {
   "codemirror_mode": {
    "name": "ipython",
    "version": 3
   },
   "file_extension": ".py",
   "mimetype": "text/x-python",
   "name": "python",
   "nbconvert_exporter": "python",
   "pygments_lexer": "ipython3",
   "version": "3.6.7"
  }
 },
 "nbformat": 4,
 "nbformat_minor": 4
}
