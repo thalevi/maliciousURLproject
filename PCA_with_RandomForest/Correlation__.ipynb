{
 "cells": [
  {
   "cell_type": "code",
   "execution_count": 1,
   "metadata": {},
   "outputs": [],
   "source": [
    "import pandas as pd\n",
    "import seaborn as sns\n",
    "import numpy as np\n",
    "import matplotlib.pyplot as pyplot\n",
    "from yellowbrick.target import FeatureCorrelation\n",
    "from yellowbrick.target.feature_correlation import feature_correlation\n",
    "from sklearn.model_selection import train_test_split\n",
    "from sklearn.ensemble import RandomForestRegressor\n",
    "from sklearn.metrics import accuracy_score\n",
    "import operator"
   ]
  },
  {
   "cell_type": "code",
   "execution_count": 2,
   "metadata": {},
   "outputs": [
    {
     "data": {
      "text/plain": [
       "(36707, 80)"
      ]
     },
     "execution_count": 2,
     "metadata": {},
     "output_type": "execute_result"
    }
   ],
   "source": [
    "##import the dataset\n",
    "dataset = pd.read_csv('All.csv')\n",
    "dataset.shape"
   ]
  },
  {
   "cell_type": "code",
   "execution_count": 3,
   "metadata": {},
   "outputs": [],
   "source": [
    "##change string value to integer according to their type\n",
    "dataset.loc[dataset[\"URL_Type_obf_Type\"] =='Defacement', \"URL_Type_obf_Type\"] = 1\n",
    "dataset.loc[dataset[\"URL_Type_obf_Type\"] =='benign', \"URL_Type_obf_Type\"] = 0\n",
    "dataset.loc[dataset[\"URL_Type_obf_Type\"] =='phishing', \"URL_Type_obf_Type\"] = 2\n",
    "dataset.loc[dataset[\"URL_Type_obf_Type\"] =='malware', \"URL_Type_obf_Type\"] = 3\n",
    "dataset.loc[dataset[\"URL_Type_obf_Type\"] =='spam', \"URL_Type_obf_Type\"] = 4\n",
    "dataset = pd.DataFrame(dataset)\n",
    "##delete nan value\n",
    "dataset.dropna(inplace = True)"
   ]
  },
  {
   "cell_type": "code",
   "execution_count": 4,
   "metadata": {},
   "outputs": [],
   "source": [
    "x = dataset.iloc[:, 0:79].values\n",
    "y = dataset.iloc[:, 79].values\n",
    "y=y.astype('int')"
   ]
  },
  {
   "cell_type": "code",
   "execution_count": 5,
   "metadata": {},
   "outputs": [],
   "source": [
    "model = RandomForestRegressor()"
   ]
  },
  {
   "cell_type": "code",
   "execution_count": 6,
   "metadata": {},
   "outputs": [
    {
     "data": {
      "text/plain": [
       "RandomForestRegressor()"
      ]
     },
     "execution_count": 6,
     "metadata": {},
     "output_type": "execute_result"
    }
   ],
   "source": [
    "model.fit(x, y)"
   ]
  },
  {
   "cell_type": "code",
   "execution_count": 7,
   "metadata": {},
   "outputs": [],
   "source": [
    "X_train, X_test, y_train, y_test = train_test_split(x, y, test_size=0.2, random_state=0)\n",
    "\n",
    "regressor = RandomForestRegressor(n_estimators=30, random_state=0)\n",
    "regressor.fit(X_train, y_train)\n",
    "y_pred = regressor.predict(X_test)\n",
    "y_pred =np.round(y_pred,0)\n",
    "score = accuracy_score(y_test, y_pred)"
   ]
  },
  {
   "cell_type": "code",
   "execution_count": 8,
   "metadata": {},
   "outputs": [
    {
     "name": "stdout",
     "output_type": "stream",
     "text": [
      "0.9357387411114038\n"
     ]
    }
   ],
   "source": [
    "print(score)"
   ]
  },
  {
   "cell_type": "code",
   "execution_count": null,
   "metadata": {},
   "outputs": [],
   "source": []
  },
  {
   "cell_type": "code",
   "execution_count": 10,
   "metadata": {},
   "outputs": [
    {
     "data": {
      "text/plain": [
       "array([6.68921049e-04, 1.08483645e-01, 4.36576447e-03, 1.34812233e-02,\n",
       "       1.90315401e-02, 1.91497915e-02, 8.90622868e-02, 3.53926448e-03,\n",
       "       2.74782921e-03, 2.44678938e-03, 5.62396935e-04, 2.07523154e-03,\n",
       "       3.79614121e-04, 1.71783586e-03, 3.47643775e-04, 4.39417676e-06,\n",
       "       2.94993024e-04, 8.64082110e-05, 7.34324419e-05, 2.10272805e-02,\n",
       "       1.53789199e-02, 3.75330495e-03, 3.11447633e-03, 2.51716595e-02,\n",
       "       1.14497140e-02, 5.84556325e-04, 3.74093884e-03, 3.85792392e-03,\n",
       "       1.78625349e-02, 8.58343868e-03, 1.84623655e-03, 3.24051675e-03,\n",
       "       1.38256240e-04, 6.86249575e-06, 2.52485440e-03, 0.00000000e+00,\n",
       "       9.68703390e-03, 3.04815373e-03, 1.69393451e-03, 1.12885707e-03,\n",
       "       1.66332853e-03, 3.21324802e-03, 1.00321173e-02, 5.19905729e-04,\n",
       "       9.41082636e-03, 3.00317780e-02, 2.79080599e-02, 6.47627228e-03,\n",
       "       9.21861326e-03, 4.80999586e-04, 3.45539233e-02, 3.55502603e-03,\n",
       "       3.38858424e-03, 6.10979213e-03, 2.13971448e-03, 1.72348243e-04,\n",
       "       1.89097246e-03, 1.50093887e-03, 1.99752165e-03, 6.59413926e-02,\n",
       "       1.70101773e-03, 5.80027005e-03, 2.51842552e-03, 2.05815082e-03,\n",
       "       1.49577673e-01, 2.45313004e-03, 4.04113675e-03, 3.82520275e-03,\n",
       "       1.32196572e-01, 1.83109912e-03, 1.92528919e-03, 2.28518157e-03,\n",
       "       6.28568048e-04, 4.52775946e-03, 3.03311546e-02, 1.62857733e-02,\n",
       "       5.80173443e-03, 3.66250207e-03, 1.98553841e-03])"
      ]
     },
     "execution_count": 10,
     "metadata": {},
     "output_type": "execute_result"
    }
   ],
   "source": [
    "importance = model.feature_importances_\n",
    "importance"
   ]
  },
  {
   "cell_type": "code",
   "execution_count": 11,
   "metadata": {},
   "outputs": [
    {
     "name": "stdout",
     "output_type": "stream",
     "text": [
      "Feature: 0, Score: 0.00067\n",
      "Feature: 1, Score: 0.10848\n",
      "Feature: 2, Score: 0.00437\n",
      "Feature: 3, Score: 0.01348\n",
      "Feature: 4, Score: 0.01903\n",
      "Feature: 5, Score: 0.01915\n",
      "Feature: 6, Score: 0.08906\n",
      "Feature: 7, Score: 0.00354\n",
      "Feature: 8, Score: 0.00275\n",
      "Feature: 9, Score: 0.00245\n",
      "Feature: 10, Score: 0.00056\n",
      "Feature: 11, Score: 0.00208\n",
      "Feature: 12, Score: 0.00038\n",
      "Feature: 13, Score: 0.00172\n",
      "Feature: 14, Score: 0.00035\n",
      "Feature: 15, Score: 0.00000\n",
      "Feature: 16, Score: 0.00029\n",
      "Feature: 17, Score: 0.00009\n",
      "Feature: 18, Score: 0.00007\n",
      "Feature: 19, Score: 0.02103\n",
      "Feature: 20, Score: 0.01538\n",
      "Feature: 21, Score: 0.00375\n",
      "Feature: 22, Score: 0.00311\n",
      "Feature: 23, Score: 0.02517\n",
      "Feature: 24, Score: 0.01145\n",
      "Feature: 25, Score: 0.00058\n",
      "Feature: 26, Score: 0.00374\n",
      "Feature: 27, Score: 0.00386\n",
      "Feature: 28, Score: 0.01786\n",
      "Feature: 29, Score: 0.00858\n",
      "Feature: 30, Score: 0.00185\n",
      "Feature: 31, Score: 0.00324\n",
      "Feature: 32, Score: 0.00014\n",
      "Feature: 33, Score: 0.00001\n",
      "Feature: 34, Score: 0.00252\n",
      "Feature: 35, Score: 0.00000\n",
      "Feature: 36, Score: 0.00969\n",
      "Feature: 37, Score: 0.00305\n",
      "Feature: 38, Score: 0.00169\n",
      "Feature: 39, Score: 0.00113\n",
      "Feature: 40, Score: 0.00166\n",
      "Feature: 41, Score: 0.00321\n",
      "Feature: 42, Score: 0.01003\n",
      "Feature: 43, Score: 0.00052\n",
      "Feature: 44, Score: 0.00941\n",
      "Feature: 45, Score: 0.03003\n",
      "Feature: 46, Score: 0.02791\n",
      "Feature: 47, Score: 0.00648\n",
      "Feature: 48, Score: 0.00922\n",
      "Feature: 49, Score: 0.00048\n",
      "Feature: 50, Score: 0.03455\n",
      "Feature: 51, Score: 0.00356\n",
      "Feature: 52, Score: 0.00339\n",
      "Feature: 53, Score: 0.00611\n",
      "Feature: 54, Score: 0.00214\n",
      "Feature: 55, Score: 0.00017\n",
      "Feature: 56, Score: 0.00189\n",
      "Feature: 57, Score: 0.00150\n",
      "Feature: 58, Score: 0.00200\n",
      "Feature: 59, Score: 0.06594\n",
      "Feature: 60, Score: 0.00170\n",
      "Feature: 61, Score: 0.00580\n",
      "Feature: 62, Score: 0.00252\n",
      "Feature: 63, Score: 0.00206\n",
      "Feature: 64, Score: 0.14958\n",
      "Feature: 65, Score: 0.00245\n",
      "Feature: 66, Score: 0.00404\n",
      "Feature: 67, Score: 0.00383\n",
      "Feature: 68, Score: 0.13220\n",
      "Feature: 69, Score: 0.00183\n",
      "Feature: 70, Score: 0.00193\n",
      "Feature: 71, Score: 0.00229\n",
      "Feature: 72, Score: 0.00063\n",
      "Feature: 73, Score: 0.00453\n",
      "Feature: 74, Score: 0.03033\n",
      "Feature: 75, Score: 0.01629\n",
      "Feature: 76, Score: 0.00580\n",
      "Feature: 77, Score: 0.00366\n",
      "Feature: 78, Score: 0.00199\n"
     ]
    },
    {
     "data": {
      "image/png": "[encoded data removed]",
      "text/plain": [
       "<Figure size 576x396 with 1 Axes>"
      ]
     },
     "metadata": {},
     "output_type": "display_data"
    }
   ],
   "source": [
    "for i,v in enumerate(importance):\n",
    "\tprint('Feature: %0d, Score: %.5f' % (i,v))\n",
    "# plot feature importance\n",
    "pyplot.bar([x for x in range(len(importance))], importance)\n",
    "pyplot.show()"
   ]
  },
  {
   "cell_type": "code",
   "execution_count": 12,
   "metadata": {},
   "outputs": [],
   "source": [
    "sort_importance = np.sort(importance)"
   ]
  },
  {
   "cell_type": "code",
   "execution_count": null,
   "metadata": {},
   "outputs": [],
   "source": []
  },
  {
   "cell_type": "code",
   "execution_count": 13,
   "metadata": {},
   "outputs": [
    {
     "name": "stdout",
     "output_type": "stream",
     "text": [
      "Feature: 0, Score: 0.00000\n",
      "Feature: 1, Score: 0.00000\n",
      "Feature: 2, Score: 0.00001\n",
      "Feature: 3, Score: 0.00007\n",
      "Feature: 4, Score: 0.00009\n",
      "Feature: 5, Score: 0.00014\n",
      "Feature: 6, Score: 0.00017\n",
      "Feature: 7, Score: 0.00029\n",
      "Feature: 8, Score: 0.00035\n",
      "Feature: 9, Score: 0.00038\n",
      "Feature: 10, Score: 0.00048\n",
      "Feature: 11, Score: 0.00052\n",
      "Feature: 12, Score: 0.00056\n",
      "Feature: 13, Score: 0.00058\n",
      "Feature: 14, Score: 0.00063\n",
      "Feature: 15, Score: 0.00067\n",
      "Feature: 16, Score: 0.00113\n",
      "Feature: 17, Score: 0.00150\n",
      "Feature: 18, Score: 0.00166\n",
      "Feature: 19, Score: 0.00169\n",
      "Feature: 20, Score: 0.00170\n",
      "Feature: 21, Score: 0.00172\n",
      "Feature: 22, Score: 0.00183\n",
      "Feature: 23, Score: 0.00185\n",
      "Feature: 24, Score: 0.00189\n",
      "Feature: 25, Score: 0.00193\n",
      "Feature: 26, Score: 0.00199\n",
      "Feature: 27, Score: 0.00200\n",
      "Feature: 28, Score: 0.00206\n",
      "Feature: 29, Score: 0.00208\n",
      "Feature: 30, Score: 0.00214\n",
      "Feature: 31, Score: 0.00229\n",
      "Feature: 32, Score: 0.00245\n",
      "Feature: 33, Score: 0.00245\n",
      "Feature: 34, Score: 0.00252\n",
      "Feature: 35, Score: 0.00252\n",
      "Feature: 36, Score: 0.00275\n",
      "Feature: 37, Score: 0.00305\n",
      "Feature: 38, Score: 0.00311\n",
      "Feature: 39, Score: 0.00321\n",
      "Feature: 40, Score: 0.00324\n",
      "Feature: 41, Score: 0.00339\n",
      "Feature: 42, Score: 0.00354\n",
      "Feature: 43, Score: 0.00356\n",
      "Feature: 44, Score: 0.00366\n",
      "Feature: 45, Score: 0.00374\n",
      "Feature: 46, Score: 0.00375\n",
      "Feature: 47, Score: 0.00383\n",
      "Feature: 48, Score: 0.00386\n",
      "Feature: 49, Score: 0.00404\n",
      "Feature: 50, Score: 0.00437\n",
      "Feature: 51, Score: 0.00453\n",
      "Feature: 52, Score: 0.00580\n",
      "Feature: 53, Score: 0.00580\n",
      "Feature: 54, Score: 0.00611\n",
      "Feature: 55, Score: 0.00648\n",
      "Feature: 56, Score: 0.00858\n",
      "Feature: 57, Score: 0.00922\n",
      "Feature: 58, Score: 0.00941\n",
      "Feature: 59, Score: 0.00969\n",
      "Feature: 60, Score: 0.01003\n",
      "Feature: 61, Score: 0.01145\n",
      "Feature: 62, Score: 0.01348\n",
      "Feature: 63, Score: 0.01538\n",
      "Feature: 64, Score: 0.01629\n",
      "Feature: 65, Score: 0.01786\n",
      "Feature: 66, Score: 0.01903\n",
      "Feature: 67, Score: 0.01915\n",
      "Feature: 68, Score: 0.02103\n",
      "Feature: 69, Score: 0.02517\n",
      "Feature: 70, Score: 0.02791\n",
      "Feature: 71, Score: 0.03003\n",
      "Feature: 72, Score: 0.03033\n",
      "Feature: 73, Score: 0.03455\n",
      "Feature: 74, Score: 0.06594\n",
      "Feature: 75, Score: 0.08906\n",
      "Feature: 76, Score: 0.10848\n",
      "Feature: 77, Score: 0.13220\n",
      "Feature: 78, Score: 0.14958\n"
     ]
    },
    {
     "data": {
      "image/png": "[encoded data removed]",
      "text/plain": [
       "<Figure size 576x396 with 1 Axes>"
      ]
     },
     "metadata": {},
     "output_type": "display_data"
    }
   ],
   "source": [
    "for i,v in enumerate(sort_importance):\n",
    "\tprint('Feature: %0d, Score: %.5f' % (i,v))\n",
    "# plot feature importance\n",
    "pyplot.bar([x for x in range(len(importance))], sort_importance)\n",
    "pyplot.show()"
   ]
  },
  {
   "cell_type": "code",
   "execution_count": 15,
   "metadata": {},
   "outputs": [],
   "source": [
    "##convert numpy to dict\n",
    "d = dict(enumerate(importance, 0)) "
   ]
  },
  {
   "cell_type": "code",
   "execution_count": 16,
   "metadata": {},
   "outputs": [
    {
     "data": {
      "text/plain": [
       "[(35, 0.0),\n",
       " (15, 4.394176756821949e-06),\n",
       " (33, 6.8624957511726705e-06),\n",
       " (18, 7.343244191490855e-05),\n",
       " (17, 8.640821098057179e-05),\n",
       " (32, 0.00013825623996308403),\n",
       " (55, 0.0001723482434412342),\n",
       " (16, 0.00029499302401078843),\n",
       " (14, 0.0003476437754874385),\n",
       " (12, 0.00037961412146003356),\n",
       " (49, 0.0004809995864047298),\n",
       " (43, 0.0005199057287729804),\n",
       " (10, 0.0005623969352229736),\n",
       " (25, 0.0005845563248504307),\n",
       " (72, 0.0006285680477733408),\n",
       " (0, 0.000668921049389082),\n",
       " (39, 0.0011288570748944687),\n",
       " (57, 0.0015009388680019874),\n",
       " (40, 0.0016633285324177355),\n",
       " (38, 0.0016939345053391473),\n",
       " (60, 0.0017010177296546288),\n",
       " (13, 0.0017178358648238343),\n",
       " (69, 0.0018310991231546053),\n",
       " (30, 0.0018462365547540426),\n",
       " (56, 0.001890972457036888),\n",
       " (70, 0.0019252891931917195),\n",
       " (78, 0.0019855384099142087),\n",
       " (58, 0.001997521646823661),\n",
       " (63, 0.0020581508153682164),\n",
       " (11, 0.0020752315427488084),\n",
       " (54, 0.002139714481593322),\n",
       " (71, 0.0022851815708485406),\n",
       " (9, 0.0024467893825417964),\n",
       " (65, 0.002453130040669259),\n",
       " (62, 0.0025184255179403954),\n",
       " (34, 0.002524854401731609),\n",
       " (8, 0.0027478292143565076),\n",
       " (37, 0.0030481537273730334),\n",
       " (22, 0.003114476325243296),\n",
       " (41, 0.0032132480162210685),\n",
       " (31, 0.0032405167492377575),\n",
       " (52, 0.003388584240732159),\n",
       " (7, 0.0035392644823744363),\n",
       " (51, 0.00355502603232894),\n",
       " (77, 0.0036625020685593997),\n",
       " (26, 0.0037409388371209312),\n",
       " (21, 0.0037533049491614012),\n",
       " (67, 0.003825202745573841),\n",
       " (27, 0.0038579239181096613),\n",
       " (66, 0.004041136746166516),\n",
       " (2, 0.004365764470042811),\n",
       " (73, 0.004527759455045539),\n",
       " (61, 0.0058002700540639215),\n",
       " (76, 0.005801734427667031),\n",
       " (53, 0.006109792132468619),\n",
       " (47, 0.00647627228256874),\n",
       " (29, 0.008583438682319039),\n",
       " (48, 0.009218613256342705),\n",
       " (44, 0.009410826360949438),\n",
       " (36, 0.009687033899355393),\n",
       " (42, 0.010032117258879099),\n",
       " (24, 0.011449713971182987),\n",
       " (3, 0.013481223304949934),\n",
       " (20, 0.015378919856879097),\n",
       " (75, 0.016285773293301442),\n",
       " (28, 0.017862534853457682),\n",
       " (4, 0.019031540079630753),\n",
       " (5, 0.01914979147344803),\n",
       " (19, 0.021027280518222634),\n",
       " (23, 0.025171659543272554),\n",
       " (46, 0.02790805992590183),\n",
       " (45, 0.030031778032409407),\n",
       " (74, 0.0303311545849783),\n",
       " (50, 0.03455392328373433),\n",
       " (59, 0.0659413925677769),\n",
       " (6, 0.08906228680083),\n",
       " (1, 0.1084836452799371),\n",
       " (68, 0.1321965716563597),\n",
       " (64, 0.14957767252583762)]"
      ]
     },
     "execution_count": 16,
     "metadata": {},
     "output_type": "execute_result"
    }
   ],
   "source": [
    "##sorted by value\n",
    "sorted_d = sorted(d.items(), key=operator.itemgetter(1))\n",
    "sorted_d "
   ]
  },
  {
   "cell_type": "code",
   "execution_count": 17,
   "metadata": {},
   "outputs": [
    {
     "name": "stdout",
     "output_type": "stream",
     "text": [
      "(18982, 80)\n"
     ]
    }
   ],
   "source": [
    "dataset\n",
    "print(dataset.shape)"
   ]
  },
  {
   "cell_type": "code",
   "execution_count": 18,
   "metadata": {},
   "outputs": [
    {
     "name": "stdout",
     "output_type": "stream",
     "text": [
      "(18982, 75)\n"
     ]
    }
   ],
   "source": [
    "dataset.drop([dataset.columns[35],dataset.columns[15],dataset.columns[33],dataset.columns[17],dataset.columns[18]], axis=1,inplace=True)\n",
    "\n",
    "print(dataset.shape)"
   ]
  },
  {
   "cell_type": "code",
   "execution_count": null,
   "metadata": {},
   "outputs": [],
   "source": []
  },
  {
   "cell_type": "code",
   "execution_count": 19,
   "metadata": {},
   "outputs": [],
   "source": [
    "x = dataset.iloc[:, 0:74].values\n",
    "y = dataset.iloc[:, 74].values\n",
    "y=y.astype('int')"
   ]
  },
  {
   "cell_type": "code",
   "execution_count": 20,
   "metadata": {},
   "outputs": [],
   "source": [
    "X_train, X_test, y_train, y_test = train_test_split(x, y, test_size=0.2, random_state=0)\n",
    "\n",
    "regressor = RandomForestRegressor(n_estimators=30, random_state=0)\n",
    "regressor.fit(X_train, y_train)\n",
    "y_pred = regressor.predict(X_test)\n",
    "y_pred =np.round(y_pred,0)\n",
    "score1 = accuracy_score(y_test, y_pred)"
   ]
  },
  {
   "cell_type": "code",
   "execution_count": 21,
   "metadata": {},
   "outputs": [
    {
     "name": "stdout",
     "output_type": "stream",
     "text": [
      "0.9367922043718725\n"
     ]
    }
   ],
   "source": [
    "print(score1)"
   ]
  },
  {
   "cell_type": "code",
   "execution_count": 24,
   "metadata": {},
   "outputs": [
    {
     "data": {
      "image/png": "[encoded data removed]",
      "text/plain": [
       "<Figure size 576x396 with 1 Axes>"
      ]
     },
     "metadata": {},
     "output_type": "display_data"
    }
   ],
   "source": [
    "a=['score_original', 'score_delete_five_features']\n",
    "b=[score,score1]\n",
    "pyplot.ylim(0.92, 0.94)\n",
    "pyplot.bar(a,b)\n",
    "pyplot.show()"
   ]
  },
  {
   "cell_type": "markdown",
   "metadata": {},
   "source": [
    "conclusion: with deleting 5 least related features, the score gets higher."
   ]
  },
  {
   "cell_type": "code",
   "execution_count": null,
   "metadata": {},
   "outputs": [],
   "source": []
  },
  {
   "cell_type": "code",
   "execution_count": 26,
   "metadata": {},
   "outputs": [
    {
     "data": {
      "text/plain": [
       "(18982, 75)"
      ]
     },
     "execution_count": 26,
     "metadata": {},
     "output_type": "execute_result"
    }
   ],
   "source": [
    "dataset.shape"
   ]
  },
  {
   "cell_type": "code",
   "execution_count": 28,
   "metadata": {},
   "outputs": [
    {
     "data": {
      "text/plain": [
       "RandomForestRegressor()"
      ]
     },
     "execution_count": 28,
     "metadata": {},
     "output_type": "execute_result"
    }
   ],
   "source": [
    "model.fit(x, y)\n"
   ]
  },
  {
   "cell_type": "code",
   "execution_count": 29,
   "metadata": {},
   "outputs": [
    {
     "data": {
      "text/plain": [
       "[(29, 0.00013419480399902287),\n",
       " (50, 0.00021227277890033188),\n",
       " (15, 0.0003561021265976686),\n",
       " (14, 0.00035978411826148864),\n",
       " (12, 0.00046160820635092616),\n",
       " (38, 0.00048331017030364795),\n",
       " (44, 0.0005344583150329167),\n",
       " (10, 0.000610601558638127),\n",
       " (0, 0.0006143233933578441),\n",
       " (67, 0.0006540346202416702),\n",
       " (22, 0.0007518249110666009),\n",
       " (34, 0.0009281471377453194),\n",
       " (35, 0.0014757509662876754),\n",
       " (51, 0.001563120205600994),\n",
       " (52, 0.0016281437205600269),\n",
       " (33, 0.0017205176967578875),\n",
       " (73, 0.001736768004526324),\n",
       " (13, 0.0017959237862245504),\n",
       " (11, 0.001883189844330324),\n",
       " (53, 0.0019250377259738974),\n",
       " (58, 0.0019879728008409064),\n",
       " (64, 0.0020175061768710847),\n",
       " (55, 0.0020751776226846964),\n",
       " (66, 0.0021094917639741264),\n",
       " (30, 0.0021293074767508705),\n",
       " (60, 0.0022122876878959206),\n",
       " (49, 0.002215945413639132),\n",
       " (27, 0.0023449871009823906),\n",
       " (57, 0.0024749694359081378),\n",
       " (32, 0.002526895970058206),\n",
       " (65, 0.0027505622068794556),\n",
       " (8, 0.0028133824259413904),\n",
       " (47, 0.0029132725003134462),\n",
       " (9, 0.0029276454459113976),\n",
       " (7, 0.0031211568378043232),\n",
       " (36, 0.00331383555868291),\n",
       " (18, 0.0033710869277946247),\n",
       " (28, 0.003376395645601263),\n",
       " (19, 0.003435273676373),\n",
       " (72, 0.0035091026091127863),\n",
       " (23, 0.0036928015707640544),\n",
       " (24, 0.0037282549807851214),\n",
       " (62, 0.003820095172895999),\n",
       " (46, 0.003854787264239131),\n",
       " (61, 0.003895385501391765),\n",
       " (2, 0.0047994618352169205),\n",
       " (68, 0.004861160575440005),\n",
       " (71, 0.005536326151926083),\n",
       " (56, 0.005600393843966859),\n",
       " (42, 0.005826242054608698),\n",
       " (48, 0.006025177997501205),\n",
       " (26, 0.008028966877363286),\n",
       " (43, 0.009577941443981303),\n",
       " (31, 0.009941520989290296),\n",
       " (37, 0.010092312958832592),\n",
       " (39, 0.010330535699748336),\n",
       " (21, 0.011075931567019755),\n",
       " (3, 0.013927545869859387),\n",
       " (17, 0.01422882839126296),\n",
       " (5, 0.01691846923762505),\n",
       " (70, 0.017663749006634817),\n",
       " (4, 0.018669734221647135),\n",
       " (25, 0.01936679735284592),\n",
       " (16, 0.02073240322788049),\n",
       " (20, 0.024980888565228086),\n",
       " (40, 0.02821862727194559),\n",
       " (69, 0.029954763167031807),\n",
       " (41, 0.030665838888200306),\n",
       " (45, 0.0339291208629045),\n",
       " (54, 0.06732712536365593),\n",
       " (1, 0.07953622241535876),\n",
       " (63, 0.11562449863248057),\n",
       " (6, 0.13437408698912032),\n",
       " (59, 0.14973863467656964)]"
      ]
     },
     "execution_count": 29,
     "metadata": {},
     "output_type": "execute_result"
    }
   ],
   "source": [
    "importance = model.feature_importances_\n",
    "d = dict(enumerate(importance, 0)) \n",
    "sorted_d = sorted(d.items(), key=operator.itemgetter(1))\n",
    "sorted_d "
   ]
  },
  {
   "cell_type": "code",
   "execution_count": 30,
   "metadata": {},
   "outputs": [
    {
     "name": "stdout",
     "output_type": "stream",
     "text": [
      "(18982, 70)\n"
     ]
    }
   ],
   "source": [
    "dataset.drop([dataset.columns[29],dataset.columns[50],dataset.columns[15],dataset.columns[14],dataset.columns[12]], axis=1,inplace=True)\n",
    "\n",
    "print(dataset.shape)"
   ]
  },
  {
   "cell_type": "code",
   "execution_count": 31,
   "metadata": {},
   "outputs": [],
   "source": [
    "x = dataset.iloc[:, 0:69].values\n",
    "y = dataset.iloc[:, 69].values\n",
    "y=y.astype('int')"
   ]
  },
  {
   "cell_type": "code",
   "execution_count": 32,
   "metadata": {},
   "outputs": [
    {
     "name": "stdout",
     "output_type": "stream",
     "text": [
      "0.9336318145904662\n"
     ]
    }
   ],
   "source": [
    "X_train, X_test, y_train, y_test = train_test_split(x, y, test_size=0.2, random_state=0)\n",
    "\n",
    "regressor = RandomForestRegressor(n_estimators=30, random_state=0)\n",
    "regressor.fit(X_train, y_train)\n",
    "y_pred = regressor.predict(X_test)\n",
    "y_pred =np.round(y_pred,0)\n",
    "score2 = accuracy_score(y_test, y_pred)\n",
    "print(score2)"
   ]
  },
  {
   "cell_type": "code",
   "execution_count": 33,
   "metadata": {},
   "outputs": [
    {
     "data": {
      "image/png": "[encoded data removed]",
      "text/plain": [
       "<Figure size 576x396 with 1 Axes>"
      ]
     },
     "metadata": {},
     "output_type": "display_data"
    }
   ],
   "source": [
    "a=['score_original', 'score_delete_five_features','score_delete_ten_features']\n",
    "b=[score,score1,score2]\n",
    "pyplot.ylim(0.92, 0.94)\n",
    "pyplot.bar(a,b)\n",
    "pyplot.show()"
   ]
  },
  {
   "cell_type": "markdown",
   "metadata": {},
   "source": [
    "conclusion: with deleting 5 least related features, the score gets higher.\n",
    "with deleting 10 least related features, the score gets lower."
   ]
  },
  {
   "cell_type": "code",
   "execution_count": null,
   "metadata": {},
   "outputs": [],
   "source": []
  }
 ],
 "metadata": {
  "kernelspec": {
   "display_name": "Python 3",
   "language": "python",
   "name": "python3"
  },
  "language_info": {
   "codemirror_mode": {
    "name": "ipython",
    "version": 3
   },
   "file_extension": ".py",
   "mimetype": "text/x-python",
   "name": "python",
   "nbconvert_exporter": "python",
   "pygments_lexer": "ipython3",
   "version": "3.8.3"
  }
 },
 "nbformat": 4,
 "nbformat_minor": 4
}
